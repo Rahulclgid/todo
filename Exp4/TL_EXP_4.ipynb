{
  "nbformat": 4,
  "nbformat_minor": 0,
  "metadata": {
    "colab": {
      "provenance": []
    },
    "kernelspec": {
      "name": "python3",
      "display_name": "Python 3"
    },
    "language_info": {
      "name": "python"
    }
  },
  "cells": [
    {
      "cell_type": "code",
      "execution_count": null,
      "metadata": {
        "colab": {
          "base_uri": "https://localhost:8080/"
        },
        "id": "MNS7xyBLjghI",
        "outputId": "bb03cb95-02fe-4c7d-d488-21ab04d8156b"
      },
      "outputs": [
        {
          "output_type": "stream",
          "name": "stdout",
          "text": [
            "Requirement already satisfied: kaggle in /usr/local/lib/python3.11/dist-packages (1.7.4.2)\n",
            "Requirement already satisfied: bleach in /usr/local/lib/python3.11/dist-packages (from kaggle) (6.2.0)\n",
            "Requirement already satisfied: certifi>=14.05.14 in /usr/local/lib/python3.11/dist-packages (from kaggle) (2025.4.26)\n",
            "Requirement already satisfied: charset-normalizer in /usr/local/lib/python3.11/dist-packages (from kaggle) (3.4.1)\n",
            "Requirement already satisfied: idna in /usr/local/lib/python3.11/dist-packages (from kaggle) (3.10)\n",
            "Requirement already satisfied: protobuf in /usr/local/lib/python3.11/dist-packages (from kaggle) (5.29.4)\n",
            "Requirement already satisfied: python-dateutil>=2.5.3 in /usr/local/lib/python3.11/dist-packages (from kaggle) (2.9.0.post0)\n",
            "Requirement already satisfied: python-slugify in /usr/local/lib/python3.11/dist-packages (from kaggle) (8.0.4)\n",
            "Requirement already satisfied: requests in /usr/local/lib/python3.11/dist-packages (from kaggle) (2.32.3)\n",
            "Requirement already satisfied: setuptools>=21.0.0 in /usr/local/lib/python3.11/dist-packages (from kaggle) (75.2.0)\n",
            "Requirement already satisfied: six>=1.10 in /usr/local/lib/python3.11/dist-packages (from kaggle) (1.17.0)\n",
            "Requirement already satisfied: text-unidecode in /usr/local/lib/python3.11/dist-packages (from kaggle) (1.3)\n",
            "Requirement already satisfied: tqdm in /usr/local/lib/python3.11/dist-packages (from kaggle) (4.67.1)\n",
            "Requirement already satisfied: urllib3>=1.15.1 in /usr/local/lib/python3.11/dist-packages (from kaggle) (2.4.0)\n",
            "Requirement already satisfied: webencodings in /usr/local/lib/python3.11/dist-packages (from kaggle) (0.5.1)\n"
          ]
        }
      ],
      "source": [
        "!pip install kaggle"
      ]
    },
    {
      "cell_type": "code",
      "source": [
        "from google.colab import files\n",
        "upoladed = files.upload()"
      ],
      "metadata": {
        "colab": {
          "base_uri": "https://localhost:8080/",
          "height": 73
        },
        "id": "eUE8sxQsjhIg",
        "outputId": "64e5a0eb-a985-491e-dfbf-8cada92807f2"
      },
      "execution_count": null,
      "outputs": [
        {
          "output_type": "display_data",
          "data": {
            "text/plain": [
              "<IPython.core.display.HTML object>"
            ],
            "text/html": [
              "\n",
              "     <input type=\"file\" id=\"files-01e2af0f-550c-4a65-94d7-0f716f6f7a6f\" name=\"files[]\" multiple disabled\n",
              "        style=\"border:none\" />\n",
              "     <output id=\"result-01e2af0f-550c-4a65-94d7-0f716f6f7a6f\">\n",
              "      Upload widget is only available when the cell has been executed in the\n",
              "      current browser session. Please rerun this cell to enable.\n",
              "      </output>\n",
              "      <script>// Copyright 2017 Google LLC\n",
              "//\n",
              "// Licensed under the Apache License, Version 2.0 (the \"License\");\n",
              "// you may not use this file except in compliance with the License.\n",
              "// You may obtain a copy of the License at\n",
              "//\n",
              "//      http://www.apache.org/licenses/LICENSE-2.0\n",
              "//\n",
              "// Unless required by applicable law or agreed to in writing, software\n",
              "// distributed under the License is distributed on an \"AS IS\" BASIS,\n",
              "// WITHOUT WARRANTIES OR CONDITIONS OF ANY KIND, either express or implied.\n",
              "// See the License for the specific language governing permissions and\n",
              "// limitations under the License.\n",
              "\n",
              "/**\n",
              " * @fileoverview Helpers for google.colab Python module.\n",
              " */\n",
              "(function(scope) {\n",
              "function span(text, styleAttributes = {}) {\n",
              "  const element = document.createElement('span');\n",
              "  element.textContent = text;\n",
              "  for (const key of Object.keys(styleAttributes)) {\n",
              "    element.style[key] = styleAttributes[key];\n",
              "  }\n",
              "  return element;\n",
              "}\n",
              "\n",
              "// Max number of bytes which will be uploaded at a time.\n",
              "const MAX_PAYLOAD_SIZE = 100 * 1024;\n",
              "\n",
              "function _uploadFiles(inputId, outputId) {\n",
              "  const steps = uploadFilesStep(inputId, outputId);\n",
              "  const outputElement = document.getElementById(outputId);\n",
              "  // Cache steps on the outputElement to make it available for the next call\n",
              "  // to uploadFilesContinue from Python.\n",
              "  outputElement.steps = steps;\n",
              "\n",
              "  return _uploadFilesContinue(outputId);\n",
              "}\n",
              "\n",
              "// This is roughly an async generator (not supported in the browser yet),\n",
              "// where there are multiple asynchronous steps and the Python side is going\n",
              "// to poll for completion of each step.\n",
              "// This uses a Promise to block the python side on completion of each step,\n",
              "// then passes the result of the previous step as the input to the next step.\n",
              "function _uploadFilesContinue(outputId) {\n",
              "  const outputElement = document.getElementById(outputId);\n",
              "  const steps = outputElement.steps;\n",
              "\n",
              "  const next = steps.next(outputElement.lastPromiseValue);\n",
              "  return Promise.resolve(next.value.promise).then((value) => {\n",
              "    // Cache the last promise value to make it available to the next\n",
              "    // step of the generator.\n",
              "    outputElement.lastPromiseValue = value;\n",
              "    return next.value.response;\n",
              "  });\n",
              "}\n",
              "\n",
              "/**\n",
              " * Generator function which is called between each async step of the upload\n",
              " * process.\n",
              " * @param {string} inputId Element ID of the input file picker element.\n",
              " * @param {string} outputId Element ID of the output display.\n",
              " * @return {!Iterable<!Object>} Iterable of next steps.\n",
              " */\n",
              "function* uploadFilesStep(inputId, outputId) {\n",
              "  const inputElement = document.getElementById(inputId);\n",
              "  inputElement.disabled = false;\n",
              "\n",
              "  const outputElement = document.getElementById(outputId);\n",
              "  outputElement.innerHTML = '';\n",
              "\n",
              "  const pickedPromise = new Promise((resolve) => {\n",
              "    inputElement.addEventListener('change', (e) => {\n",
              "      resolve(e.target.files);\n",
              "    });\n",
              "  });\n",
              "\n",
              "  const cancel = document.createElement('button');\n",
              "  inputElement.parentElement.appendChild(cancel);\n",
              "  cancel.textContent = 'Cancel upload';\n",
              "  const cancelPromise = new Promise((resolve) => {\n",
              "    cancel.onclick = () => {\n",
              "      resolve(null);\n",
              "    };\n",
              "  });\n",
              "\n",
              "  // Wait for the user to pick the files.\n",
              "  const files = yield {\n",
              "    promise: Promise.race([pickedPromise, cancelPromise]),\n",
              "    response: {\n",
              "      action: 'starting',\n",
              "    }\n",
              "  };\n",
              "\n",
              "  cancel.remove();\n",
              "\n",
              "  // Disable the input element since further picks are not allowed.\n",
              "  inputElement.disabled = true;\n",
              "\n",
              "  if (!files) {\n",
              "    return {\n",
              "      response: {\n",
              "        action: 'complete',\n",
              "      }\n",
              "    };\n",
              "  }\n",
              "\n",
              "  for (const file of files) {\n",
              "    const li = document.createElement('li');\n",
              "    li.append(span(file.name, {fontWeight: 'bold'}));\n",
              "    li.append(span(\n",
              "        `(${file.type || 'n/a'}) - ${file.size} bytes, ` +\n",
              "        `last modified: ${\n",
              "            file.lastModifiedDate ? file.lastModifiedDate.toLocaleDateString() :\n",
              "                                    'n/a'} - `));\n",
              "    const percent = span('0% done');\n",
              "    li.appendChild(percent);\n",
              "\n",
              "    outputElement.appendChild(li);\n",
              "\n",
              "    const fileDataPromise = new Promise((resolve) => {\n",
              "      const reader = new FileReader();\n",
              "      reader.onload = (e) => {\n",
              "        resolve(e.target.result);\n",
              "      };\n",
              "      reader.readAsArrayBuffer(file);\n",
              "    });\n",
              "    // Wait for the data to be ready.\n",
              "    let fileData = yield {\n",
              "      promise: fileDataPromise,\n",
              "      response: {\n",
              "        action: 'continue',\n",
              "      }\n",
              "    };\n",
              "\n",
              "    // Use a chunked sending to avoid message size limits. See b/62115660.\n",
              "    let position = 0;\n",
              "    do {\n",
              "      const length = Math.min(fileData.byteLength - position, MAX_PAYLOAD_SIZE);\n",
              "      const chunk = new Uint8Array(fileData, position, length);\n",
              "      position += length;\n",
              "\n",
              "      const base64 = btoa(String.fromCharCode.apply(null, chunk));\n",
              "      yield {\n",
              "        response: {\n",
              "          action: 'append',\n",
              "          file: file.name,\n",
              "          data: base64,\n",
              "        },\n",
              "      };\n",
              "\n",
              "      let percentDone = fileData.byteLength === 0 ?\n",
              "          100 :\n",
              "          Math.round((position / fileData.byteLength) * 100);\n",
              "      percent.textContent = `${percentDone}% done`;\n",
              "\n",
              "    } while (position < fileData.byteLength);\n",
              "  }\n",
              "\n",
              "  // All done.\n",
              "  yield {\n",
              "    response: {\n",
              "      action: 'complete',\n",
              "    }\n",
              "  };\n",
              "}\n",
              "\n",
              "scope.google = scope.google || {};\n",
              "scope.google.colab = scope.google.colab || {};\n",
              "scope.google.colab._files = {\n",
              "  _uploadFiles,\n",
              "  _uploadFilesContinue,\n",
              "};\n",
              "})(self);\n",
              "</script> "
            ]
          },
          "metadata": {}
        },
        {
          "output_type": "stream",
          "name": "stdout",
          "text": [
            "Saving kaggle.json to kaggle.json\n"
          ]
        }
      ]
    },
    {
      "cell_type": "code",
      "source": [
        "!chmod 600 ~/.kaggle/kaggle.json"
      ],
      "metadata": {
        "colab": {
          "base_uri": "https://localhost:8080/"
        },
        "id": "b3YcnG4Rj2I1",
        "outputId": "cfff7e31-e9e4-4de2-c577-2e76c047b70a"
      },
      "execution_count": null,
      "outputs": [
        {
          "output_type": "stream",
          "name": "stdout",
          "text": [
            "chmod: cannot access '/root/.kaggle/kaggle.json': No such file or directory\n"
          ]
        }
      ]
    },
    {
      "cell_type": "code",
      "source": [
        "import os\n",
        "!mkdir -p ~/.kaggle\n",
        "!cp kaggle.json ~/.kaggle/\n",
        "!chmod 600 ~/.kaggle/kaggle.json\n",
        "\n",
        "os.environ[\"KAGGLE_KEY\"] = \"63c3fdd7d4058251d2c83a40c51e6572\"\n",
        "os.environ[\"KAGGLE_USERNAME\"]= \"novfi071\"\n",
        "\n",
        "!kaggle datasets list"
      ],
      "metadata": {
        "colab": {
          "base_uri": "https://localhost:8080/"
        },
        "id": "P16_axVUj8-x",
        "outputId": "cb0380d7-765d-47ac-cec7-3e418ba663af"
      },
      "execution_count": null,
      "outputs": [
        {
          "output_type": "stream",
          "name": "stdout",
          "text": [
            "ref                                                                  title                                                 size  lastUpdated                 downloadCount  voteCount  usabilityRating  \n",
            "-------------------------------------------------------------------  ----------------------------------------------  ----------  --------------------------  -------------  ---------  ---------------  \n",
            "jayaantanaath/student-habits-vs-academic-performance                 Student Habits vs Academic Performance               19512  2025-04-12 10:49:08.663000          10638        187  1.0              \n",
            "zahidmughal2343/global-cancer-patients-2015-2024                     global_cancer_patients_2015_2024                   1261049  2025-04-14 00:05:23.367000           2751         37  1.0              \n",
            "adilshamim8/student-depression-dataset                               Student Depression Dataset                          467020  2025-03-13 03:12:30.423000          24844        369  1.0              \n",
            "hamnakaleemds/disney-princess-popularity-dataset                     Disney Princess Popularity Dataset                   14754  2025-04-23 23:48:45.323000           1783         29  0.7058824        \n",
            "shahriarkabir/procurement-kpi-analysis-dataset                       Procurement KPI Analysis Dataset                     16906  2025-04-26 02:15:11.127000            951         26  1.0              \n",
            "fajobgiua/heart-attack-risk-assessment-dataset                       Heart Attack Risk Assessment Dataset                 17962  2025-04-16 17:04:58.747000           1405         25  0.7647059        \n",
            "zahidmughal2343/amazon-sales-2025                                    Amazon Sales 2025                                     3617  2025-04-03 22:08:13.607000           6409         74  1.0              \n",
            "zahidmughal2343/supplement-sales-data                                Supplement Sales Data                                66800  2025-04-11 15:01:00.227000           2916         48  1.0              \n",
            "devdope/200k-spotify-songs-light-dataset                             🎧 200K+ Spotify Songs Light Dataset               17660144  2025-04-16 21:03:24.003000           1557         28  0.9411765        \n",
            "allubie/imdb-top-250-movies                                          IMDb Top 250 Movies                                   4326  2025-04-18 10:22:10.693000           1408         22  1.0              \n",
            "atharvasoundankar/impact-of-ai-on-digital-media-2020-2025            🌍 Impact of AI on Digital Media (2020-2025)           5812  2025-04-03 09:12:25.070000           5711         91  1.0              \n",
            "shahriar26s/anemia-detection-dataset                                 Anemia Detection Dataset                              2503  2025-04-26 05:34:18.807000            994         27  1.0              \n",
            "marshalpatel3558/diabetes-prediction-dataset                         Diabetes_prediction_dataset                         326543  2025-03-21 19:50:19.707000           4352         59  1.0              \n",
            "romanfonel/precious-metals-history-since-2000-with-news              Precious Metals: Data & News (2000-Present)        6732374  2025-04-17 19:41:23.910000           1110         26  1.0              \n",
            "hamnakaleemds/marvel-universe-characters-dataset                     Marvel Universe Characters Dataset                    1567  2025-04-07 11:10:49.987000           1337         23  0.7058824        \n",
            "charlottebennett1234/lifestyle-factors-and-their-impact-on-students  Lifestyle Factors and Their Impact on Students       24200  2025-04-10 10:12:36.373000           2674         41  0.9411765        \n",
            "kunalgp/top-1000-most-played-spotify-songs-of-all-time               Top 1000 Most Played Spotify Songs of All Time       53227  2025-04-12 18:13:51.753000           3286         49  0.9411765        \n",
            "prajwaldongre/collection-of-recipes-around-the-world                 Collection of Recipes around the world                9659  2025-04-26 10:08:18.337000            588         23  1.0              \n",
            "dansbecker/melbourne-housing-snapshot                                Melbourne Housing Snapshot                          461423  2018-06-05 12:52:24.087000         178274       1606  0.7058824        \n",
            "nikitamanaenkov/stock-portfolio-data-with-prices-and-indices         Stock Portfolio Data with Prices and Indices       1573175  2025-03-23 20:27:08.993000           1510         26  1.0              \n"
          ]
        }
      ]
    },
    {
      "cell_type": "code",
      "source": [
        "!kaggle datasets download -d bhuviranga/mini-dog-breed-identification\n"
      ],
      "metadata": {
        "colab": {
          "base_uri": "https://localhost:8080/"
        },
        "id": "a9RHbig5kCa1",
        "outputId": "c61eb014-5cf0-48b9-f0e0-78556b8d0fb7"
      },
      "execution_count": null,
      "outputs": [
        {
          "output_type": "stream",
          "name": "stdout",
          "text": [
            "Dataset URL: https://www.kaggle.com/datasets/bhuviranga/mini-dog-breed-identification\n",
            "License(s): other\n"
          ]
        }
      ]
    },
    {
      "cell_type": "code",
      "source": [
        "!unzip mini-dog-breed-identification.zip\n"
      ],
      "metadata": {
        "colab": {
          "base_uri": "https://localhost:8080/"
        },
        "id": "8xm8hs2ckGpf",
        "outputId": "1f676290-d6c3-4aaa-8593-ab7ecb6893e0"
      },
      "execution_count": null,
      "outputs": [
        {
          "output_type": "stream",
          "name": "stdout",
          "text": [
            "Archive:  mini-dog-breed-identification.zip\n",
            "  inflating: Mini Dog Breed Data/saint_bernard/039bdddd8546f0fafdf984b810d1138b.jpg  \n",
            "  inflating: Mini Dog Breed Data/saint_bernard/03b0e7ace52c10dc4878f60307cdebe3.jpg  \n",
            "  inflating: Mini Dog Breed Data/saint_bernard/09a1ea62ffa4b9389c03162bb0b0b572.jpg  \n",
            "  inflating: Mini Dog Breed Data/saint_bernard/14e9a6d002632db71a18283fc024f086.jpg  \n",
            "  inflating: Mini Dog Breed Data/saint_bernard/16265434d841173019be215bea5d8097.jpg  \n",
            "  inflating: Mini Dog Breed Data/saint_bernard/1b26fc0e227488f288c753c84a88ca6c.jpg  \n",
            "  inflating: Mini Dog Breed Data/saint_bernard/215fb2b75397fe9010c35fe84f2a07b2.jpg  \n",
            "  inflating: Mini Dog Breed Data/saint_bernard/28f673b778e6f4cb974dc332fcb1ee1d.jpg  \n",
            "  inflating: Mini Dog Breed Data/saint_bernard/2be75da18d88312d50c6237ce86786d8.jpg  \n",
            "  inflating: Mini Dog Breed Data/saint_bernard/2f4a4f7881b5bcee285cd7a09fcbf0d7.jpg  \n",
            "  inflating: Mini Dog Breed Data/saint_bernard/33bac6585e1091787fb37e3bd769984a.jpg  \n",
            "  inflating: Mini Dog Breed Data/saint_bernard/34117f0c3c594ec76e078a2bf208c10c.jpg  \n",
            "  inflating: Mini Dog Breed Data/saint_bernard/34a2e0cf51238ef0227dd59e03b05987.jpg  \n",
            "  inflating: Mini Dog Breed Data/saint_bernard/369b617a81c09d79ac0d9d85f3907e22.jpg  \n",
            "  inflating: Mini Dog Breed Data/saint_bernard/387ae4422add8a82e27f14da3b778a5f.jpg  \n",
            "  inflating: Mini Dog Breed Data/saint_bernard/3dc56e4859e15163593dba776fb2b72a.jpg  \n",
            "  inflating: Mini Dog Breed Data/saint_bernard/40209815012be281287091336c9d6223.jpg  \n",
            "  inflating: Mini Dog Breed Data/saint_bernard/41d143460374a7ffa245b073891184f0.jpg  \n",
            "  inflating: Mini Dog Breed Data/saint_bernard/447209457aec544c9a9df35b50c5f700.jpg  \n",
            "  inflating: Mini Dog Breed Data/saint_bernard/44b4684cac2f73ba81b6ed86e45244ad.jpg  \n",
            "  inflating: Mini Dog Breed Data/saint_bernard/480ba0fa99c410160b35619e9336f746.jpg  \n",
            "  inflating: Mini Dog Breed Data/saint_bernard/4a29719db06ab8bd56fefc72428bb53b.jpg  \n",
            "  inflating: Mini Dog Breed Data/saint_bernard/4ac5bcca6d783f5d36d0c6b69918b54a.jpg  \n",
            "  inflating: Mini Dog Breed Data/saint_bernard/4bafa4d48d31c4291c67a7f29b64aed4.jpg  \n",
            "  inflating: Mini Dog Breed Data/saint_bernard/54a9737ddc4409b9e683568cb529e9c4.jpg  \n",
            "  inflating: Mini Dog Breed Data/saint_bernard/5c62c3ba9f6182c3f5e9b70942fee2db.jpg  \n",
            "  inflating: Mini Dog Breed Data/saint_bernard/5e8384d94474985bd73e9eefac4aedb9.jpg  \n",
            "  inflating: Mini Dog Breed Data/saint_bernard/5ef8759554e9bc6f682b855d77172106.jpg  \n",
            "  inflating: Mini Dog Breed Data/saint_bernard/625402e42292d1f8ae61e138894559a6.jpg  \n",
            "  inflating: Mini Dog Breed Data/saint_bernard/635be4b6142d448a3dbaf430b3a990a0.jpg  \n",
            "  inflating: Mini Dog Breed Data/saint_bernard/63e090e41e4855170f3cb8173d164529.jpg  \n",
            "  inflating: Mini Dog Breed Data/saint_bernard/670e04498219ef5a3b2f7777ef4b439a.jpg  \n",
            "  inflating: Mini Dog Breed Data/saint_bernard/68c5aa08f27f2884e75820a39652cad5.jpg  \n",
            "  inflating: Mini Dog Breed Data/saint_bernard/6cc02e5764a242a9d2b6469ef02eccd4.jpg  \n",
            "  inflating: Mini Dog Breed Data/saint_bernard/704fbb5c83c3eff3dc98c5c740dfe327.jpg  \n",
            "  inflating: Mini Dog Breed Data/saint_bernard/71ca356b09297d337b681c5f2ce57649.jpg  \n",
            "  inflating: Mini Dog Breed Data/saint_bernard/776efe98bbf0cb040ec6c2d6515b7bc5.jpg  \n",
            "  inflating: Mini Dog Breed Data/saint_bernard/79c4b258a57fb46c58b749d093bb22ed.jpg  \n",
            "  inflating: Mini Dog Breed Data/saint_bernard/7b5292a6c2a1cad3f8266b5ed0598629.jpg  \n",
            "  inflating: Mini Dog Breed Data/saint_bernard/80530662979f925e5854d840ac73418b.jpg  \n",
            "  inflating: Mini Dog Breed Data/saint_bernard/80916993d582c4db7bb90bcdb768e31f.jpg  \n",
            "  inflating: Mini Dog Breed Data/saint_bernard/841463629c4833816e216cbb041c2778.jpg  \n",
            "  inflating: Mini Dog Breed Data/saint_bernard/85bfb0ee0c6071dcafd54d343a64a5d5.jpg  \n",
            "  inflating: Mini Dog Breed Data/saint_bernard/86ead5380434660cdd8a6625ad6fe341.jpg  \n",
            "  inflating: Mini Dog Breed Data/saint_bernard/8898c34ad05d2c95319ff2a2f326e69c.jpg  \n",
            "  inflating: Mini Dog Breed Data/saint_bernard/89e486c54ca7c2537abe3522142a3537.jpg  \n",
            "  inflating: Mini Dog Breed Data/saint_bernard/8baf4fd87d634ccdcb7965b2b55c9639.jpg  \n",
            "  inflating: Mini Dog Breed Data/saint_bernard/8fa8a4c1355b991d8641c8fcd471e9b3.jpg  \n",
            "  inflating: Mini Dog Breed Data/saint_bernard/904f13f221653c8389dc5fa88d68541b.jpg  \n",
            "  inflating: Mini Dog Breed Data/saint_bernard/917ce8504f2a5347de1686975842b4bf.jpg  \n",
            "  inflating: Mini Dog Breed Data/saint_bernard/921f88563193b64bcdba94784751cc82.jpg  \n",
            "  inflating: Mini Dog Breed Data/saint_bernard/93ab7f7688f5f974cab9bd3c43d5d726.jpg  \n",
            "  inflating: Mini Dog Breed Data/saint_bernard/a319f3dc68e86ef3d4fb40dcbcc4de99.jpg  \n",
            "  inflating: Mini Dog Breed Data/saint_bernard/a6fbcb0ef8c766183f56fb005bda285d.jpg  \n",
            "  inflating: Mini Dog Breed Data/saint_bernard/a7295fb63568fc0b1bfe4900835fc159.jpg  \n",
            "  inflating: Mini Dog Breed Data/saint_bernard/ac21b78f89d6939f36effb79104e7758.jpg  \n",
            "  inflating: Mini Dog Breed Data/saint_bernard/ac597b01b21a68f14b1d57e326cc9184.jpg  \n",
            "  inflating: Mini Dog Breed Data/saint_bernard/ae7e1799c6476eadab886c2e3caddf62.jpg  \n",
            "  inflating: Mini Dog Breed Data/saint_bernard/ae9566fed2f45407a4282a6677652c0f.jpg  \n",
            "  inflating: Mini Dog Breed Data/saint_bernard/aef36e28ef84d9c3833b3896e27c98ba.jpg  \n",
            "  inflating: Mini Dog Breed Data/saint_bernard/b01372ac131079a990d1ba093b9c6311.jpg  \n",
            "  inflating: Mini Dog Breed Data/saint_bernard/b3beb6bab59975305146110d51fc7120.jpg  \n",
            "  inflating: Mini Dog Breed Data/saint_bernard/b64fc34ac26b60c15706e82abef11ba9.jpg  \n",
            "  inflating: Mini Dog Breed Data/saint_bernard/c4ceeed5a3de99701f516c39181ce974.jpg  \n",
            "  inflating: Mini Dog Breed Data/saint_bernard/c531e6e15b507dc9b26ea1036f9317c4.jpg  \n",
            "  inflating: Mini Dog Breed Data/saint_bernard/cba32ddfd44f83ed34d88326b2416937.jpg  \n",
            "  inflating: Mini Dog Breed Data/saint_bernard/ce8aafb174173caa826cf76e0469d56f.jpg  \n",
            "  inflating: Mini Dog Breed Data/saint_bernard/ced3ca13937555e20f9193e7c4ff865a.jpg  \n",
            "  inflating: Mini Dog Breed Data/saint_bernard/d30c9f0e2f1a37fd9e44dfd4d35934d6.jpg  \n",
            "  inflating: Mini Dog Breed Data/saint_bernard/d3165e9b6451bd8ed6c1377994c81451.jpg  \n",
            "  inflating: Mini Dog Breed Data/saint_bernard/d5b01922a98bd60cd867e7b6d62039f2.jpg  \n",
            "  inflating: Mini Dog Breed Data/saint_bernard/dc99d12a7cabf5d737be5a74bf56c3a9.jpg  \n",
            "  inflating: Mini Dog Breed Data/saint_bernard/e562d56214836fc2621f01d53f25c44f.jpg  \n",
            "  inflating: Mini Dog Breed Data/saint_bernard/e5861b5d5b08d0e03ca3e3785e44cc88.jpg  \n",
            "  inflating: Mini Dog Breed Data/saint_bernard/e7faa5748d8320f604aeb3fd5bbe4ab0.jpg  \n",
            "  inflating: Mini Dog Breed Data/saint_bernard/e8cd220184f16fde613b32d157699edf.jpg  \n",
            "  inflating: Mini Dog Breed Data/saint_bernard/e8d0712b9ca47f77b333858183a38ef7.jpg  \n",
            "  inflating: Mini Dog Breed Data/saint_bernard/ea43c69e5c1321a6d05d0caaceb69318.jpg  \n",
            "  inflating: Mini Dog Breed Data/saint_bernard/ecb279d5c137b233683c6e0b8d7c1b88.jpg  \n",
            "  inflating: Mini Dog Breed Data/saint_bernard/eff315e6d8b855fc2166ab4fc2a192d5.jpg  \n",
            "  inflating: Mini Dog Breed Data/saint_bernard/f84d455704632ab197b47cfe4061da36.jpg  \n",
            "  inflating: Mini Dog Breed Data/saint_bernard/fd0f827a0d0ad9a2ff60ddf30e5d50be.jpg  \n",
            "  inflating: Mini Dog Breed Data/saint_bernard/fd80cac3ffdcd6ddcfe4d2d6f8f617f2.jpg  \n",
            "  inflating: Mini Dog Breed Data/saint_bernard/fdfcc3d2e40970fbfb8521bd29e9fb4d.jpg  \n",
            "  inflating: Mini Dog Breed Data/scottish_deerhound/0042188c895a2f14ef64a918ed9c7b64.jpg  \n",
            "  inflating: Mini Dog Breed Data/scottish_deerhound/01e787576c003930f96c966f9c3e1d44.jpg  \n",
            "  inflating: Mini Dog Breed Data/scottish_deerhound/03dc61595ad9dbf49e3998cf586ca8cb.jpg  \n",
            "  inflating: Mini Dog Breed Data/scottish_deerhound/056b535b441278e83839984f1b1da0a6.jpg  \n",
            "  inflating: Mini Dog Breed Data/scottish_deerhound/05719b998e57a11b863a322ecc7652a5.jpg  \n",
            "  inflating: Mini Dog Breed Data/scottish_deerhound/058d4bfce39c9f1157ca4c1b019bbf1a.jpg  \n",
            "  inflating: Mini Dog Breed Data/scottish_deerhound/08946697b3e50e602d6bea765c8fb9f5.jpg  \n",
            "  inflating: Mini Dog Breed Data/scottish_deerhound/0b72856996ad5826afff7195ff678589.jpg  \n",
            "  inflating: Mini Dog Breed Data/scottish_deerhound/0bad79c06832a1bdeaedbbb50a28450a.jpg  \n",
            "  inflating: Mini Dog Breed Data/scottish_deerhound/0eaea4c6fe055607ed8322db0306285f.jpg  \n",
            "  inflating: Mini Dog Breed Data/scottish_deerhound/0fee7eb61d52b589414845803d73f2f9.jpg  \n",
            "  inflating: Mini Dog Breed Data/scottish_deerhound/12eb341a614941c33777c708d43a042f.jpg  \n",
            "  inflating: Mini Dog Breed Data/scottish_deerhound/136e0fc1f67b72037c0e60faff6061f2.jpg  \n",
            "  inflating: Mini Dog Breed Data/scottish_deerhound/166da5b561393f0dda932f562c39bc6b.jpg  \n",
            "  inflating: Mini Dog Breed Data/scottish_deerhound/19205fceb3eb41ba27f1b0b946934789.jpg  \n",
            "  inflating: Mini Dog Breed Data/scottish_deerhound/1a5dd02401d05d66bbc9eb1e13a096fc.jpg  \n",
            "  inflating: Mini Dog Breed Data/scottish_deerhound/1f443edbd2a9e5a77be5d14262b8bd66.jpg  \n",
            "  inflating: Mini Dog Breed Data/scottish_deerhound/226ffd2a0ab7fe198b97bf255711ee82.jpg  \n",
            "  inflating: Mini Dog Breed Data/scottish_deerhound/241bb47ab02ab1b01aad84ffb6524b6d.jpg  \n",
            "  inflating: Mini Dog Breed Data/scottish_deerhound/27290de13a539134e06d9a5af13e23a1.jpg  \n",
            "  inflating: Mini Dog Breed Data/scottish_deerhound/291f8ff3c8a5ad5451f42d6b5119963e.jpg  \n",
            "  inflating: Mini Dog Breed Data/scottish_deerhound/2c99c9ae27d34737a092ebfaeb791648.jpg  \n",
            "  inflating: Mini Dog Breed Data/scottish_deerhound/2f134ad25b7f825ab28eb2a5dba0c638.jpg  \n",
            "  inflating: Mini Dog Breed Data/scottish_deerhound/37f535c853a2d1c0dd13b94e9545db81.jpg  \n",
            "  inflating: Mini Dog Breed Data/scottish_deerhound/3b3ae8c92f704bf449ea4bc61866461b.jpg  \n",
            "  inflating: Mini Dog Breed Data/scottish_deerhound/3b3dc6881003ac59ecc5321adbaa9350.jpg  \n",
            "  inflating: Mini Dog Breed Data/scottish_deerhound/3f0c77e6089a64f7083277b6bf22759e.jpg  \n",
            "  inflating: Mini Dog Breed Data/scottish_deerhound/3f86f07cc17912038aa62c83f044163e.jpg  \n",
            "  inflating: Mini Dog Breed Data/scottish_deerhound/3fd4d0daf3781126dde8e6d4e47ce4dd.jpg  \n",
            "  inflating: Mini Dog Breed Data/scottish_deerhound/41f7290c2777a4f18d6082c7683096a9.jpg  \n",
            "  inflating: Mini Dog Breed Data/scottish_deerhound/430d1dd6454063f3dadadd8cd08821be.jpg  \n",
            "  inflating: Mini Dog Breed Data/scottish_deerhound/435b3053411e22ac8b6164cd5513d282.jpg  \n",
            "  inflating: Mini Dog Breed Data/scottish_deerhound/44748d61290af0658e499cc4b046b6c9.jpg  \n",
            "  inflating: Mini Dog Breed Data/scottish_deerhound/447a24e3766cde62204d42d571212389.jpg  \n",
            "  inflating: Mini Dog Breed Data/scottish_deerhound/452c3d852b0291d7b4c6011348372547.jpg  \n",
            "  inflating: Mini Dog Breed Data/scottish_deerhound/48691e705d9c663941873256da0cc683.jpg  \n",
            "  inflating: Mini Dog Breed Data/scottish_deerhound/486ae1ca61f84a930a58ece5d8c8d95e.jpg  \n",
            "  inflating: Mini Dog Breed Data/scottish_deerhound/498c124f07f90a5f911a8879a4b53444.jpg  \n",
            "  inflating: Mini Dog Breed Data/scottish_deerhound/4edfc93408cef61336881d3016df6e6d.jpg  \n",
            "  inflating: Mini Dog Breed Data/scottish_deerhound/52ccec304f83c67eb2c996f274e7d640.jpg  \n",
            "  inflating: Mini Dog Breed Data/scottish_deerhound/59d8b381d23f02be989374df44cfd36d.jpg  \n",
            "  inflating: Mini Dog Breed Data/scottish_deerhound/5de5c4c802931e60e1428fc0243267eb.jpg  \n",
            "  inflating: Mini Dog Breed Data/scottish_deerhound/5fd220be94ab7c0058bc3aef9134d160.jpg  \n",
            "  inflating: Mini Dog Breed Data/scottish_deerhound/652230a69f3da993b74d0ce49b905550.jpg  \n",
            "  inflating: Mini Dog Breed Data/scottish_deerhound/657c6ab87bd1e49b91d27a571ec12883.jpg  \n",
            "  inflating: Mini Dog Breed Data/scottish_deerhound/669d0c285f652eb96a97f45b8c7f1bb4.jpg  \n",
            "  inflating: Mini Dog Breed Data/scottish_deerhound/68b359736db9580b8f7a8f0a17d758b6.jpg  \n",
            "  inflating: Mini Dog Breed Data/scottish_deerhound/6b5d909216e2d5d6e25487777ed32c29.jpg  \n",
            "  inflating: Mini Dog Breed Data/scottish_deerhound/6b8ac349a4550590b06c83996ed714e8.jpg  \n",
            "  inflating: Mini Dog Breed Data/scottish_deerhound/72368f3e9b7974dc29e284b7d80edb42.jpg  \n",
            "  inflating: Mini Dog Breed Data/scottish_deerhound/73ec0cb4913739425e88255f57e49589.jpg  \n",
            "  inflating: Mini Dog Breed Data/scottish_deerhound/77206fa9b8356386a19d7d5e130f863a.jpg  \n",
            "  inflating: Mini Dog Breed Data/scottish_deerhound/77c4f20be5520f5394ad2a1e7181ba51.jpg  \n",
            "  inflating: Mini Dog Breed Data/scottish_deerhound/7968fee6de08f19f2a783e5b9a8bd46f.jpg  \n",
            "  inflating: Mini Dog Breed Data/scottish_deerhound/79d2ea336fda1392771cb594f3555945.jpg  \n",
            "  inflating: Mini Dog Breed Data/scottish_deerhound/7aafb1cd5aba33e4097e41ea4166ece2.jpg  \n",
            "  inflating: Mini Dog Breed Data/scottish_deerhound/7bdb38da91169debedf3f5b2bffdc014.jpg  \n",
            "  inflating: Mini Dog Breed Data/scottish_deerhound/7ecd9ea72881883e8a0c708425cb9b2b.jpg  \n",
            "  inflating: Mini Dog Breed Data/scottish_deerhound/7eef63f380bd2c73b73e0f17d3420dff.jpg  \n",
            "  inflating: Mini Dog Breed Data/scottish_deerhound/7fcefdba3fd6402705bdf39258177d42.jpg  \n",
            "  inflating: Mini Dog Breed Data/scottish_deerhound/8233bf4095e1baf15fe06d98c9083906.jpg  \n",
            "  inflating: Mini Dog Breed Data/scottish_deerhound/838f27799a1ed487d9f48d7a49a047b3.jpg  \n",
            "  inflating: Mini Dog Breed Data/scottish_deerhound/83b1020ad3fce7d18c4699dd292a3c93.jpg  \n",
            "  inflating: Mini Dog Breed Data/scottish_deerhound/83c2d7419b0429b9fe953bc1b6cddbec.jpg  \n",
            "  inflating: Mini Dog Breed Data/scottish_deerhound/8470a6fdf4db9b088494aaa9384ba9d0.jpg  \n",
            "  inflating: Mini Dog Breed Data/scottish_deerhound/859deae5a4eb97d0d32c94eb936228ed.jpg  \n",
            "  inflating: Mini Dog Breed Data/scottish_deerhound/85d6ace4a0c1ffdbaf80479b9368ecdf.jpg  \n",
            "  inflating: Mini Dog Breed Data/scottish_deerhound/87028ba151a48e01ea87c063e420798b.jpg  \n",
            "  inflating: Mini Dog Breed Data/scottish_deerhound/88928ad88da921d74a26acb27fb3028a.jpg  \n",
            "  inflating: Mini Dog Breed Data/scottish_deerhound/890efbec7147c2887c460be0af763381.jpg  \n",
            "  inflating: Mini Dog Breed Data/scottish_deerhound/89c587a6a853c816d3cea9337a8e814a.jpg  \n",
            "  inflating: Mini Dog Breed Data/scottish_deerhound/89cbfc8c3745a9c14c2b73765f30fc9a.jpg  \n",
            "  inflating: Mini Dog Breed Data/scottish_deerhound/8a4830e8d2f106d5a0c46ef82be96b0c.jpg  \n",
            "  inflating: Mini Dog Breed Data/scottish_deerhound/8b27fd53a34c667b41ec5cf13be22de6.jpg  \n",
            "  inflating: Mini Dog Breed Data/scottish_deerhound/8d4b28ae56c225f870139cdfeff5131c.jpg  \n",
            "  inflating: Mini Dog Breed Data/scottish_deerhound/92cd9b84d46f409747f172060b45200d.jpg  \n",
            "  inflating: Mini Dog Breed Data/scottish_deerhound/9468380b65de0c9bcdaa5921305fe362.jpg  \n",
            "  inflating: Mini Dog Breed Data/scottish_deerhound/9777f569b6116476eeade6c12a234d8e.jpg  \n",
            "  inflating: Mini Dog Breed Data/scottish_deerhound/9ad7b84e62adb614a516e742d2df0f1b.jpg  \n",
            "  inflating: Mini Dog Breed Data/scottish_deerhound/9bef849130e5759f4e77d9cdbd72034a.jpg  \n",
            "  inflating: Mini Dog Breed Data/scottish_deerhound/9bf3d79a743c864430ddc69fcc4e4c0d.jpg  \n",
            "  inflating: Mini Dog Breed Data/scottish_deerhound/a234febaeeba77417fd731d9c5d3a692.jpg  \n",
            "  inflating: Mini Dog Breed Data/scottish_deerhound/a25ddbe69eddafe9bbf2e542dc8cb487.jpg  \n",
            "  inflating: Mini Dog Breed Data/scottish_deerhound/a2974cd29095193d21bad9d4429a0146.jpg  \n",
            "  inflating: Mini Dog Breed Data/scottish_deerhound/a32893132f6fbb3635df77c157c7d8e0.jpg  \n",
            "  inflating: Mini Dog Breed Data/scottish_deerhound/a5e12305354299b560665bffbd811f8d.jpg  \n",
            "  inflating: Mini Dog Breed Data/scottish_deerhound/a72448bdbaa5e486245d38f50ca37e42.jpg  \n",
            "  inflating: Mini Dog Breed Data/scottish_deerhound/a8965b5b9649335721b516e0e6e67122.jpg  \n",
            "  inflating: Mini Dog Breed Data/scottish_deerhound/ac54633fb411ba5f4a403cb2cef10e9b.jpg  \n",
            "  inflating: Mini Dog Breed Data/scottish_deerhound/ad15d290cc87d4c3afbe21061c71e465.jpg  \n",
            "  inflating: Mini Dog Breed Data/scottish_deerhound/af5ea2c0ba78ce06af14acc92b0c8803.jpg  \n",
            "  inflating: Mini Dog Breed Data/scottish_deerhound/b33ebbb55eb1b3ff1587deb055529e00.jpg  \n",
            "  inflating: Mini Dog Breed Data/scottish_deerhound/b7bcf988b4dff199ec966696225a3aa0.jpg  \n",
            "  inflating: Mini Dog Breed Data/scottish_deerhound/bac48c1d1224be5945c7a0b823f919b6.jpg  \n",
            "  inflating: Mini Dog Breed Data/scottish_deerhound/bd8cb94a46ae36e1bf2f0952a3e4a79e.jpg  \n",
            "  inflating: Mini Dog Breed Data/scottish_deerhound/becdcf664798e240a8eb4fea44de4f94.jpg  \n",
            "  inflating: Mini Dog Breed Data/scottish_deerhound/bf7004de0f825049194139051f7a8025.jpg  \n",
            "  inflating: Mini Dog Breed Data/scottish_deerhound/c0e6e8660b28cd6f91bee7e75f63cde1.jpg  \n",
            "  inflating: Mini Dog Breed Data/scottish_deerhound/c13427fc3db9194dac02b1721bd10fe4.jpg  \n",
            "  inflating: Mini Dog Breed Data/scottish_deerhound/c3008b4470c7c53a12d4490e51643548.jpg  \n",
            "  inflating: Mini Dog Breed Data/scottish_deerhound/c81748117aecc58678b1677528fdab97.jpg  \n",
            "  inflating: Mini Dog Breed Data/scottish_deerhound/c9bbc4ce586c0d73e14bee1b1e674ba9.jpg  \n",
            "  inflating: Mini Dog Breed Data/scottish_deerhound/cdb97461991bf6d92b771a0c83076b69.jpg  \n",
            "  inflating: Mini Dog Breed Data/scottish_deerhound/cdee721aacdca2d44cd02200f2e1e62c.jpg  \n",
            "  inflating: Mini Dog Breed Data/scottish_deerhound/cdffff7690054e91eab8e7237df12406.jpg  \n",
            "  inflating: Mini Dog Breed Data/scottish_deerhound/d34ca643d6c19c9943b40af456e62cd3.jpg  \n",
            "  inflating: Mini Dog Breed Data/scottish_deerhound/d47fcfb7f8b4de12cb78b54eb1c62dcb.jpg  \n",
            "  inflating: Mini Dog Breed Data/scottish_deerhound/d482fb5576279496d6f8d72bf6b93d9f.jpg  \n",
            "  inflating: Mini Dog Breed Data/scottish_deerhound/d48a8aa150e8ec0f97868af26bcc0a93.jpg  \n",
            "  inflating: Mini Dog Breed Data/scottish_deerhound/d600da0fd3fa1bde3ed69e1442aed8a1.jpg  \n",
            "  inflating: Mini Dog Breed Data/scottish_deerhound/d99e075b2610dd70e27a95c5f16e3b8d.jpg  \n",
            "  inflating: Mini Dog Breed Data/scottish_deerhound/da82351431ac8992359ffca87bca053d.jpg  \n",
            "  inflating: Mini Dog Breed Data/scottish_deerhound/e1f5774f729e887a7314dfaa8fcb0b8a.jpg  \n",
            "  inflating: Mini Dog Breed Data/scottish_deerhound/e5f8c5b22071d0a266d80e3f9edc1cd0.jpg  \n",
            "  inflating: Mini Dog Breed Data/scottish_deerhound/eb53813edf96c446e5acaa06c0deca9e.jpg  \n",
            "  inflating: Mini Dog Breed Data/scottish_deerhound/eb68d9469a3925897dd1c06bbc5a40d9.jpg  \n",
            "  inflating: Mini Dog Breed Data/scottish_deerhound/ed650c72271b58dbac0fd5d91ebd206b.jpg  \n",
            "  inflating: Mini Dog Breed Data/scottish_deerhound/eda44fc4fded6ff594aeb833634ea44c.jpg  \n",
            "  inflating: Mini Dog Breed Data/scottish_deerhound/edb50bbbbf53fb184cbc04f21dd97b81.jpg  \n",
            "  inflating: Mini Dog Breed Data/scottish_deerhound/f184f4ea0aad4cac48670bede5868054.jpg  \n",
            "  inflating: Mini Dog Breed Data/scottish_deerhound/f194e48d99e5e0f279eb8cd5e6872e36.jpg  \n",
            "  inflating: Mini Dog Breed Data/scottish_deerhound/f1a9a63f0ec70494ec2050de0fd39402.jpg  \n",
            "  inflating: Mini Dog Breed Data/scottish_deerhound/f5c21557b2fdf621b48720357ea35df2.jpg  \n",
            "  inflating: Mini Dog Breed Data/scottish_deerhound/f901c393eca491f1c03b88b31fa956fc.jpg  \n",
            "  inflating: Mini Dog Breed Data/scottish_deerhound/f921b60576b1055884307f1f6d42997f.jpg  \n",
            "  inflating: Mini Dog Breed Data/scottish_deerhound/fe50bac6c389d137ea01c9cfc7346ca8.jpg  \n",
            "  inflating: Mini Dog Breed Data/siberian_husky/045ea2f41120606e2c5ae1315cebfb46.jpg  \n",
            "  inflating: Mini Dog Breed Data/siberian_husky/049a406bfac63012d757167c084ced1b.jpg  \n",
            "  inflating: Mini Dog Breed Data/siberian_husky/04be608c9c005d9aa0224fe08554e4be.jpg  \n",
            "  inflating: Mini Dog Breed Data/siberian_husky/07a0214fa84969b5256bf7d20f1b3a9b.jpg  \n",
            "  inflating: Mini Dog Breed Data/siberian_husky/0c9fc0f58a6724ca680c76785a452bba.jpg  \n",
            "  inflating: Mini Dog Breed Data/siberian_husky/0d74e47d162e023bb1ae5aae40276fd6.jpg  \n",
            "  inflating: Mini Dog Breed Data/siberian_husky/0e167bb5c5d4736190d220d081d1de23.jpg  \n",
            "  inflating: Mini Dog Breed Data/siberian_husky/101c7d1a68a7282bbc5a1a226d81cd74.jpg  \n",
            "  inflating: Mini Dog Breed Data/siberian_husky/14597c96d5c222eebd742f4207296314.jpg  \n",
            "  inflating: Mini Dog Breed Data/siberian_husky/1639ccef237eec9fc4eb1aa0916201c3.jpg  \n",
            "  inflating: Mini Dog Breed Data/siberian_husky/165f26ae3d9dfe88e10f7929c031b1c8.jpg  \n",
            "  inflating: Mini Dog Breed Data/siberian_husky/1699a179453b177a5e895c5b5ecb3624.jpg  \n",
            "  inflating: Mini Dog Breed Data/siberian_husky/1c4b1ca01852b8ff6fca6debce1fd229.jpg  \n",
            "  inflating: Mini Dog Breed Data/siberian_husky/1edad3ece8f4f47a493d88c24dd7d8c9.jpg  \n",
            "  inflating: Mini Dog Breed Data/siberian_husky/219a919735822e98d89cca96fd89107b.jpg  \n",
            "  inflating: Mini Dog Breed Data/siberian_husky/247bd5917165aae21518dc8a5ac6d0ab.jpg  \n",
            "  inflating: Mini Dog Breed Data/siberian_husky/25e39234fec7980d3dbed17e21f4b8c1.jpg  \n",
            "  inflating: Mini Dog Breed Data/siberian_husky/2db83abf17de07286072ee5a2d497830.jpg  \n",
            "  inflating: Mini Dog Breed Data/siberian_husky/351f02bbaa4f24bad17cc1e83c39a0fc.jpg  \n",
            "  inflating: Mini Dog Breed Data/siberian_husky/383a9cc4522b7776d520fc30d4fdbaa4.jpg  \n",
            "  inflating: Mini Dog Breed Data/siberian_husky/38df8edb78febdb8f23253238cce0ba9.jpg  \n",
            "  inflating: Mini Dog Breed Data/siberian_husky/3a3d8c875f399ecdeaadf1dd37b9de56.jpg  \n",
            "  inflating: Mini Dog Breed Data/siberian_husky/3aa370b64d9212e2c8f46ab17ee0857a.jpg  \n",
            "  inflating: Mini Dog Breed Data/siberian_husky/3c00e7b9995f27cc4c578f9c6a6a0a02.jpg  \n",
            "  inflating: Mini Dog Breed Data/siberian_husky/3d180d390b32baf36478bc8599b3d8fc.jpg  \n",
            "  inflating: Mini Dog Breed Data/siberian_husky/3d7405de56d708ac880ffb2626b95b45.jpg  \n",
            "  inflating: Mini Dog Breed Data/siberian_husky/403cd77c18683a4cfac76fc7ac4632bb.jpg  \n",
            "  inflating: Mini Dog Breed Data/siberian_husky/48a9dcc2e0c6269b089d6b24a66c0143.jpg  \n",
            "  inflating: Mini Dog Breed Data/siberian_husky/4927ede09ce508a92f4e38f8360df14e.jpg  \n",
            "  inflating: Mini Dog Breed Data/siberian_husky/4cb0e4b6cf86ebdd38e7fba7a20d75d6.jpg  \n",
            "  inflating: Mini Dog Breed Data/siberian_husky/4fe59f20b42e04f3bee926f15f8840fd.jpg  \n",
            "  inflating: Mini Dog Breed Data/siberian_husky/52a6ee471fc937ac0075c3b401a53fd9.jpg  \n",
            "  inflating: Mini Dog Breed Data/siberian_husky/53d2ac9bad9a7afe75627d55aacf19be.jpg  \n",
            "  inflating: Mini Dog Breed Data/siberian_husky/540c37123625bae630876c20617d931b.jpg  \n",
            "  inflating: Mini Dog Breed Data/siberian_husky/5857b6aade7068572506ff278b512ffa.jpg  \n",
            "  inflating: Mini Dog Breed Data/siberian_husky/58ed0514ecfd6a7df0cb2711fcbbc81b.jpg  \n",
            "  inflating: Mini Dog Breed Data/siberian_husky/5d65d1e510fe5a0ca5df404ce3db48c4.jpg  \n",
            "  inflating: Mini Dog Breed Data/siberian_husky/6172bf156eeabf8e45f1681effe6db17.jpg  \n",
            "  inflating: Mini Dog Breed Data/siberian_husky/68a848cd380f56ec30952f422aa43e67.jpg  \n",
            "  inflating: Mini Dog Breed Data/siberian_husky/6bebc535f9ec071829fdf835c2aba130.jpg  \n",
            "  inflating: Mini Dog Breed Data/siberian_husky/7485df362ac8abcff73a6cf75e7955e1.jpg  \n",
            "  inflating: Mini Dog Breed Data/siberian_husky/77928a7be51832f25f6909eb9cc4afce.jpg  \n",
            "  inflating: Mini Dog Breed Data/siberian_husky/77b43f8c92647abe6025d4972dd899cf.jpg  \n",
            "  inflating: Mini Dog Breed Data/siberian_husky/7972d0467f6a8d6f209f948347061e24.jpg  \n",
            "  inflating: Mini Dog Breed Data/siberian_husky/7b44341b91b48e2eafe679c00ba1a0a6.jpg  \n",
            "  inflating: Mini Dog Breed Data/siberian_husky/7bd0187f1b9e4fbbffc6d4e8e98746e5.jpg  \n",
            "  inflating: Mini Dog Breed Data/siberian_husky/7d94bf0b3433fbcdb34f7c13979ef0e6.jpg  \n",
            "  inflating: Mini Dog Breed Data/siberian_husky/80a17e4bc6ce4b5880d07be1f325a997.jpg  \n",
            "  inflating: Mini Dog Breed Data/siberian_husky/83609f659965b2aa5d8c74fbc2bec49e.jpg  \n",
            "  inflating: Mini Dog Breed Data/siberian_husky/86bd30760385bad95c9c03f97619eb99.jpg  \n",
            "  inflating: Mini Dog Breed Data/siberian_husky/89c5baab87b86eff18560be8f58f481c.jpg  \n",
            "  inflating: Mini Dog Breed Data/siberian_husky/8ddb0c01060fa25b3df031c1f8eaf11a.jpg  \n",
            "  inflating: Mini Dog Breed Data/siberian_husky/901efa01e94e8601a4a1755a47377748.jpg  \n",
            "  inflating: Mini Dog Breed Data/siberian_husky/911abd1a39cdc943dc4b0b5d3c19d86d.jpg  \n",
            "  inflating: Mini Dog Breed Data/siberian_husky/912a0d50758238e3be7ee4089f529a25.jpg  \n",
            "  inflating: Mini Dog Breed Data/siberian_husky/968319ab218a721298197d0819f519ab.jpg  \n",
            "  inflating: Mini Dog Breed Data/siberian_husky/99a3cbafa74640729139a6cb80a1c513.jpg  \n",
            "  inflating: Mini Dog Breed Data/siberian_husky/9b7abb2d62395fe947683a33eee54d43.jpg  \n",
            "  inflating: Mini Dog Breed Data/siberian_husky/9cb7daea9f8c91fbcb0c021b80e30092.jpg  \n",
            "  inflating: Mini Dog Breed Data/siberian_husky/a300b9437a786533fbac5331bcb6996d.jpg  \n",
            "  inflating: Mini Dog Breed Data/siberian_husky/a671803d1eed0aada084f65eb084ba28.jpg  \n",
            "  inflating: Mini Dog Breed Data/siberian_husky/a7a3ada2b02b42c729fea4f19bc83091.jpg  \n",
            "  inflating: Mini Dog Breed Data/siberian_husky/a90c8510c0d41d4e40efa58e4c93a996.jpg  \n",
            "  inflating: Mini Dog Breed Data/siberian_husky/aa738e200b779d28af87b388f1dd309b.jpg  \n",
            "  inflating: Mini Dog Breed Data/siberian_husky/ad7d271bedbe576ccbf5c646e4ddcbc2.jpg  \n",
            "  inflating: Mini Dog Breed Data/siberian_husky/ae4431c09466aee8c31a707b6aac0666.jpg  \n",
            "  inflating: Mini Dog Breed Data/siberian_husky/b069dbe6b93ea0082792e2e5160d8574.jpg  \n",
            "  inflating: Mini Dog Breed Data/siberian_husky/b0b7aaaa673295ace0ae4d9f248b71f1.jpg  \n",
            "  inflating: Mini Dog Breed Data/siberian_husky/b19813c11f94f561e45242347d8da73a.jpg  \n",
            "  inflating: Mini Dog Breed Data/siberian_husky/b205121465ba657ca587e8c0764f3a6b.jpg  \n",
            "  inflating: Mini Dog Breed Data/siberian_husky/b3b5eb135bc850b54a04d2c43b83a237.jpg  \n",
            "  inflating: Mini Dog Breed Data/siberian_husky/b6c51bc40c0c8e3a618e3f8470f25314.jpg  \n",
            "  inflating: Mini Dog Breed Data/siberian_husky/bc198e31d0c17f265239d4cf515104cf.jpg  \n",
            "  inflating: Mini Dog Breed Data/siberian_husky/bc8503aaeb6b36c91fe82fa0cbe1dfc2.jpg  \n",
            "  inflating: Mini Dog Breed Data/siberian_husky/bd4bf652ce079538e6bc3de2612c1f03.jpg  \n",
            "  inflating: Mini Dog Breed Data/siberian_husky/be575caa5b993cf44f40ac8193db9597.jpg  \n",
            "  inflating: Mini Dog Breed Data/siberian_husky/c1b1a26065c28ee43c7bfdc1ec7dfdeb.jpg  \n",
            "  inflating: Mini Dog Breed Data/siberian_husky/c59c717f3f699529820090cd02563faa.jpg  \n",
            "  inflating: Mini Dog Breed Data/siberian_husky/cf2851761c1af3015e67d12681c40f11.jpg  \n",
            "  inflating: Mini Dog Breed Data/siberian_husky/d3c6e03d7b80ee6c253b1f3b0ac7c74c.jpg  \n",
            "  inflating: Mini Dog Breed Data/siberian_husky/d7c69184308bb29224ef9499292abb09.jpg  \n",
            "  inflating: Mini Dog Breed Data/siberian_husky/d971e8cc02852ea0576cf9ecb295c782.jpg  \n",
            "  inflating: Mini Dog Breed Data/siberian_husky/db5b24455f0bc4c78ecb69771eb3e7a5.jpg  \n",
            "  inflating: Mini Dog Breed Data/siberian_husky/dd694fe7f5b46a6dd7c545d31004e1f6.jpg  \n",
            "  inflating: Mini Dog Breed Data/siberian_husky/e1109172b47d152684b6e54b97ae6758.jpg  \n",
            "  inflating: Mini Dog Breed Data/siberian_husky/e5c20fbe4702370b3dc2690bb72a8cd7.jpg  \n",
            "  inflating: Mini Dog Breed Data/siberian_husky/e5fe6ce882c440a45354722376fdb770.jpg  \n",
            "  inflating: Mini Dog Breed Data/siberian_husky/e79cc376c53b8333546437ca6e5b8759.jpg  \n",
            "  inflating: Mini Dog Breed Data/siberian_husky/e960fc18473c0998c1ecbda887aa6bea.jpg  \n",
            "  inflating: Mini Dog Breed Data/siberian_husky/ed894588cade79d0253082f96f2a6310.jpg  \n",
            "  inflating: Mini Dog Breed Data/siberian_husky/f3afd4f69038b249042cd481f0b5813a.jpg  \n",
            "  inflating: Mini Dog Breed Data/siberian_husky/f411d5b28c9174da6ec9c0a85837fbfb.jpg  \n",
            "  inflating: Mini Dog Breed Data/siberian_husky/f67c86c7429bfe3a576c2468d243b29f.jpg  \n",
            "  inflating: Mini Dog Breed Data/siberian_husky/f7850cfce0e0d79627dfb63d71d97b72.jpg  \n",
            "  inflating: Mini Dog Breed Data/siberian_husky/fc0d67099704bcf210316e6c31d2f28b.jpg  \n",
            "  inflating: Mini Dog Breed Data/silky_terrier/0964a2558fc9aa293a6a934d49f64968.jpg  \n",
            "  inflating: Mini Dog Breed Data/silky_terrier/0daad4c8568dd89f295f6c3837b772df.jpg  \n",
            "  inflating: Mini Dog Breed Data/silky_terrier/0df07a23ab97135ce7d390f2d12e388d.jpg  \n",
            "  inflating: Mini Dog Breed Data/silky_terrier/0f91ba06bfea7401f59c6d796717029d.jpg  \n",
            "  inflating: Mini Dog Breed Data/silky_terrier/11730ea41395edaaa3a80d757c7dd1c2.jpg  \n",
            "  inflating: Mini Dog Breed Data/silky_terrier/1928d59eba4b9470a8fb79eb56041c42.jpg  \n",
            "  inflating: Mini Dog Breed Data/silky_terrier/1998465c04b1bd90da3f6070201a6ce6.jpg  \n",
            "  inflating: Mini Dog Breed Data/silky_terrier/19b2acc95a6e88fc737241abd6d3b7f9.jpg  \n",
            "  inflating: Mini Dog Breed Data/silky_terrier/1a9558cf1f87cc4a5fb374681979d100.jpg  \n",
            "  inflating: Mini Dog Breed Data/silky_terrier/1ca84cc3ffbab016dbd7ceced0e680a3.jpg  \n",
            "  inflating: Mini Dog Breed Data/silky_terrier/1e06d7f87fc2c11ac1c7ae10c10d5e63.jpg  \n",
            "  inflating: Mini Dog Breed Data/silky_terrier/1fd5eb6cda41c2f89f3c132adeafd72d.jpg  \n",
            "  inflating: Mini Dog Breed Data/silky_terrier/21a38439d3fdd2ce6b26b89ddd71baf7.jpg  \n",
            "  inflating: Mini Dog Breed Data/silky_terrier/21ba1eb45659b77daba4ffd4c410c904.jpg  \n",
            "  inflating: Mini Dog Breed Data/silky_terrier/24968d279159784894314e7679c934b1.jpg  \n",
            "  inflating: Mini Dog Breed Data/silky_terrier/24a037230a61e29b7a0e89e8fa27b1b7.jpg  \n",
            "  inflating: Mini Dog Breed Data/silky_terrier/29ebb6a17247453b7a14ef8a151c0224.jpg  \n",
            "  inflating: Mini Dog Breed Data/silky_terrier/2a64b9bc7f894d05dd34ec450c5944fa.jpg  \n",
            "  inflating: Mini Dog Breed Data/silky_terrier/2c55080777e6a4d52cddbd370611af06.jpg  \n",
            "  inflating: Mini Dog Breed Data/silky_terrier/2e043a12b2f9674868d8a603ff3d1e7a.jpg  \n",
            "  inflating: Mini Dog Breed Data/silky_terrier/2efc1bf43b1e4beaebae74f0cf80dc2e.jpg  \n",
            "  inflating: Mini Dog Breed Data/silky_terrier/2fbee06d34d96db9d521eae6b4765a8f.jpg  \n",
            "  inflating: Mini Dog Breed Data/silky_terrier/31ceb3788539e33a6f0b29c5feb194b4.jpg  \n",
            "  inflating: Mini Dog Breed Data/silky_terrier/39c48ed253bf29d886f69ecaf34f9e6c.jpg  \n",
            "  inflating: Mini Dog Breed Data/silky_terrier/3c66b664d8de58637b83e78643079428.jpg  \n",
            "  inflating: Mini Dog Breed Data/silky_terrier/3f3ffc5a024eaa3afa29a0dc2bee91c8.jpg  \n",
            "  inflating: Mini Dog Breed Data/silky_terrier/3f9b91e7965a3b1ce705f75cdd714028.jpg  \n",
            "  inflating: Mini Dog Breed Data/silky_terrier/4402b21a08fb21195350273ac319a49a.jpg  \n",
            "  inflating: Mini Dog Breed Data/silky_terrier/465dd0798576b77535f697bbe8b49b0c.jpg  \n",
            "  inflating: Mini Dog Breed Data/silky_terrier/4843d11d307af618f100e8a9fbfdb9e6.jpg  \n",
            "  inflating: Mini Dog Breed Data/silky_terrier/4afd6edd97e8448bbbdc062311ec8868.jpg  \n",
            "  inflating: Mini Dog Breed Data/silky_terrier/4b5e166a87fb01064c330b50c8678995.jpg  \n",
            "  inflating: Mini Dog Breed Data/silky_terrier/4e80242b50eb1c68dc04cbea094fccf1.jpg  \n",
            "  inflating: Mini Dog Breed Data/silky_terrier/5203d0c7afc103dc8e4c1cd99ff93e9e.jpg  \n",
            "  inflating: Mini Dog Breed Data/silky_terrier/54d4876e394145a19762cbe38b44b3d4.jpg  \n",
            "  inflating: Mini Dog Breed Data/silky_terrier/578ab55f94b2cd1bce0529552f5026bb.jpg  \n",
            "  inflating: Mini Dog Breed Data/silky_terrier/5d35302836df23812a233888a6309892.jpg  \n",
            "  inflating: Mini Dog Breed Data/silky_terrier/5d4e422ee14154858c50efa6ee3b14df.jpg  \n",
            "  inflating: Mini Dog Breed Data/silky_terrier/5da9cb489b6d6be58b7ecd643f69c46e.jpg  \n",
            "  inflating: Mini Dog Breed Data/silky_terrier/605f5059d620a53bec9fcbc0e0acb3a5.jpg  \n",
            "  inflating: Mini Dog Breed Data/silky_terrier/64d840b8b3948c5ffd8644b1539f5c00.jpg  \n",
            "  inflating: Mini Dog Breed Data/silky_terrier/6c5da8790c14038eb7f83768f4d5ab5a.jpg  \n",
            "  inflating: Mini Dog Breed Data/silky_terrier/6c7968dc0549fb4f9586222fb3f487be.jpg  \n",
            "  inflating: Mini Dog Breed Data/silky_terrier/6f85e9e2824f09e392782698fc57090c.jpg  \n",
            "  inflating: Mini Dog Breed Data/silky_terrier/705933f1ba0ac42f48d3f5c6c9b7ebd2.jpg  \n",
            "  inflating: Mini Dog Breed Data/silky_terrier/7092ab2a22edbb3bec5f93ecf2ddb331.jpg  \n",
            "  inflating: Mini Dog Breed Data/silky_terrier/78f9f919d2ab1396a4b99b9c6a3d2074.jpg  \n",
            "  inflating: Mini Dog Breed Data/silky_terrier/79390b828803e5f2589c35e1003f28b9.jpg  \n",
            "  inflating: Mini Dog Breed Data/silky_terrier/7bcc7002cf669cc8fa13c42fe1c9f48e.jpg  \n",
            "  inflating: Mini Dog Breed Data/silky_terrier/88f31da888f9a8007165cc1830b63fd7.jpg  \n",
            "  inflating: Mini Dog Breed Data/silky_terrier/896ae4eda6310c5fa223131ac7574494.jpg  \n",
            "  inflating: Mini Dog Breed Data/silky_terrier/90fc6e34d3ab3e7c6fff4f854df6d3a4.jpg  \n",
            "  inflating: Mini Dog Breed Data/silky_terrier/91b620611eb4e0fed6093251f3d4c1f8.jpg  \n",
            "  inflating: Mini Dog Breed Data/silky_terrier/93870e5bf9d1a2efe65d010ab08173f1.jpg  \n",
            "  inflating: Mini Dog Breed Data/silky_terrier/93e99e11f97f9f31f0a68f91e955fbe1.jpg  \n",
            "  inflating: Mini Dog Breed Data/silky_terrier/94f64671fa5c87ded83a0b1915f82d71.jpg  \n",
            "  inflating: Mini Dog Breed Data/silky_terrier/9664790f704ca0796bf8c790ca276e9b.jpg  \n",
            "  inflating: Mini Dog Breed Data/silky_terrier/9ad725a03c572df37763c08c9ac0c545.jpg  \n",
            "  inflating: Mini Dog Breed Data/silky_terrier/9e39ca2c3e9caba90877f30f864035fa.jpg  \n",
            "  inflating: Mini Dog Breed Data/silky_terrier/a560b3e2b9403610346568f640278c89.jpg  \n",
            "  inflating: Mini Dog Breed Data/silky_terrier/a7db31e112e983e61b6d7c880abbef7f.jpg  \n",
            "  inflating: Mini Dog Breed Data/silky_terrier/a930ca18e5688b01f1cb223383faf9bf.jpg  \n",
            "  inflating: Mini Dog Breed Data/silky_terrier/aac11706ef19a09f6884615c4352a0b0.jpg  \n",
            "  inflating: Mini Dog Breed Data/silky_terrier/ae1a8d64cea83e9f1bda35351d2174d7.jpg  \n",
            "  inflating: Mini Dog Breed Data/silky_terrier/b37eeeae39be339eb04a3705bfcac2b3.jpg  \n",
            "  inflating: Mini Dog Breed Data/silky_terrier/b6561ca0cb1acc71733564cab65fe6b2.jpg  \n",
            "  inflating: Mini Dog Breed Data/silky_terrier/ba9616b899da4c0623a21eb2404ab1b5.jpg  \n",
            "  inflating: Mini Dog Breed Data/silky_terrier/bd9334441c2067dfc01dfca5eedf7f21.jpg  \n",
            "  inflating: Mini Dog Breed Data/silky_terrier/beb42ec1708f471d474bb4de9bf2968b.jpg  \n",
            "  inflating: Mini Dog Breed Data/silky_terrier/c28e2f22672805efa4d1bbba93a09662.jpg  \n",
            "  inflating: Mini Dog Breed Data/silky_terrier/d5b91a7590c1510b727e1cf4925687ab.jpg  \n",
            "  inflating: Mini Dog Breed Data/silky_terrier/d8e39c28a398072fb76193c402f20405.jpg  \n",
            "  inflating: Mini Dog Breed Data/silky_terrier/de1da53a478bd391889a98ee9063c2d7.jpg  \n",
            "  inflating: Mini Dog Breed Data/silky_terrier/e1cacd82bce4a66313debf5e883fa806.jpg  \n",
            "  inflating: Mini Dog Breed Data/silky_terrier/e29768ede01098a68e5021b453a94ee8.jpg  \n",
            "  inflating: Mini Dog Breed Data/silky_terrier/e342333b4dd5d53c4720bb69b72cfe4e.jpg  \n",
            "  inflating: Mini Dog Breed Data/silky_terrier/e3a6203b61fa9cd2ffad92ebe31334ca.jpg  \n",
            "  inflating: Mini Dog Breed Data/silky_terrier/e466e0a3b43403c7bffd943fffc92ced.jpg  \n",
            "  inflating: Mini Dog Breed Data/silky_terrier/e748f61d39da506904f531c7732df512.jpg  \n",
            "  inflating: Mini Dog Breed Data/silky_terrier/e7f3274adaad369068602a422e9df192.jpg  \n",
            "  inflating: Mini Dog Breed Data/silky_terrier/e80dbb78fb1d763d01d73b2f367c6805.jpg  \n",
            "  inflating: Mini Dog Breed Data/silky_terrier/ea43ab0fec05595317c008853e9798ef.jpg  \n",
            "  inflating: Mini Dog Breed Data/silky_terrier/eadb9e961a7835d4da014f7de12e7660.jpg  \n",
            "  inflating: Mini Dog Breed Data/silky_terrier/edeb63f8216445c1fd9572929e5e2557.jpg  \n",
            "  inflating: Mini Dog Breed Data/silky_terrier/efeeefcc693ae837060c1c103195c4a6.jpg  \n",
            "  inflating: Mini Dog Breed Data/silky_terrier/f375e6363bc21dcd3cb65637c7855e9c.jpg  \n",
            "  inflating: Mini Dog Breed Data/silky_terrier/f42afcc1fabac064a07c6a5b7ae2766e.jpg  \n",
            "  inflating: Mini Dog Breed Data/silky_terrier/f8d48f89aaa55962d4beb853a128eac7.jpg  \n",
            "  inflating: Mini Dog Breed Data/silky_terrier/fa26802c7a0ff2fc7dcabb9999a6c4b3.jpg  \n",
            "  inflating: Mini Dog Breed Data/silky_terrier/fdc0556f9b32a714b56985eb99fbbbeb.jpg  \n",
            "  inflating: Mini Dog Breed Data/yorkshire_terrier/07bbf36ce2c7407751219804b3d187ec.jpg  \n",
            "  inflating: Mini Dog Breed Data/yorkshire_terrier/083820e6dda52da4c0f200ac36f582dc.jpg  \n",
            "  inflating: Mini Dog Breed Data/yorkshire_terrier/0cb1bf12ae0fd5f681ae579c2a28ccd8.jpg  \n",
            "  inflating: Mini Dog Breed Data/yorkshire_terrier/0f976e55b3634296183b2b1c051d5bda.jpg  \n",
            "  inflating: Mini Dog Breed Data/yorkshire_terrier/0fa302727af44e7ad8033825cea98d7c.jpg  \n",
            "  inflating: Mini Dog Breed Data/yorkshire_terrier/11722136645ee54db58a0df76eae2179.jpg  \n",
            "  inflating: Mini Dog Breed Data/yorkshire_terrier/11f968569f31c60b73a6d50b907f800f.jpg  \n",
            "  inflating: Mini Dog Breed Data/yorkshire_terrier/14095922a772c94921a065006a9fa454.jpg  \n",
            "  inflating: Mini Dog Breed Data/yorkshire_terrier/141321373d0535ee37171a2d6ca9bcbb.jpg  \n",
            "  inflating: Mini Dog Breed Data/yorkshire_terrier/153697b802875722cb25421a661a4526.jpg  \n",
            "  inflating: Mini Dog Breed Data/yorkshire_terrier/1548eb783093ac6bdf011d07f3370a36.jpg  \n",
            "  inflating: Mini Dog Breed Data/yorkshire_terrier/1574f04538521f284218dfbf2c8678ee.jpg  \n",
            "  inflating: Mini Dog Breed Data/yorkshire_terrier/1fa82619012d8693282ace6d05e81ccd.jpg  \n",
            "  inflating: Mini Dog Breed Data/yorkshire_terrier/23418e1e584a9ac9e51c1ab2c804c1a7.jpg  \n",
            "  inflating: Mini Dog Breed Data/yorkshire_terrier/254b4eb7218cc3e6f18286b020fb61cd.jpg  \n",
            "  inflating: Mini Dog Breed Data/yorkshire_terrier/25d13706449a0e5bc89077b99366b448.jpg  \n",
            "  inflating: Mini Dog Breed Data/yorkshire_terrier/3107bca519211656b3c077050e58a3ac.jpg  \n",
            "  inflating: Mini Dog Breed Data/yorkshire_terrier/31b6ee728915433aad07164838e20a55.jpg  \n",
            "  inflating: Mini Dog Breed Data/yorkshire_terrier/3210707d7fc78b83f2394140162d44c8.jpg  \n",
            "  inflating: Mini Dog Breed Data/yorkshire_terrier/32577d03b64bd440d7516f1e9be2fc85.jpg  \n",
            "  inflating: Mini Dog Breed Data/yorkshire_terrier/369bd2e5050a6e33754ec28a657e5f4a.jpg  \n",
            "  inflating: Mini Dog Breed Data/yorkshire_terrier/3b1b2c26477f0d45ad851940685d1928.jpg  \n",
            "  inflating: Mini Dog Breed Data/yorkshire_terrier/3c92b96b64a7ce342411aa1cd0dc7936.jpg  \n",
            "  inflating: Mini Dog Breed Data/yorkshire_terrier/3f2ad3df5b64a29a9aabd75476f8d46d.jpg  \n",
            "  inflating: Mini Dog Breed Data/yorkshire_terrier/40e19b8d649cd395b0cdb27f432841bb.jpg  \n",
            "  inflating: Mini Dog Breed Data/yorkshire_terrier/422b044a1bb57ca2d342ef53ca248238.jpg  \n",
            "  inflating: Mini Dog Breed Data/yorkshire_terrier/43650f09b040cc687b485800a0abdecd.jpg  \n",
            "  inflating: Mini Dog Breed Data/yorkshire_terrier/46a4f212e8e0fff9c102c109c4aece9e.jpg  \n",
            "  inflating: Mini Dog Breed Data/yorkshire_terrier/4868e6dd023cf0d31412362db3b84de8.jpg  \n",
            "  inflating: Mini Dog Breed Data/yorkshire_terrier/52b721b1626b1658b5b34c080e925897.jpg  \n",
            "  inflating: Mini Dog Breed Data/yorkshire_terrier/530f38ff38ca1ef890955d4c65bffcd8.jpg  \n",
            "  inflating: Mini Dog Breed Data/yorkshire_terrier/54f2ff40e1d8fda54fe65fef6d1b7046.jpg  \n",
            "  inflating: Mini Dog Breed Data/yorkshire_terrier/650953565013848ff55db2f2dbde0888.jpg  \n",
            "  inflating: Mini Dog Breed Data/yorkshire_terrier/65edb0a5f650ae22d18625df0f9c4e59.jpg  \n",
            "  inflating: Mini Dog Breed Data/yorkshire_terrier/6bba7d8fe641691872e1230e70cfa02c.jpg  \n",
            "  inflating: Mini Dog Breed Data/yorkshire_terrier/6d13b34a19bf0776634565f656804ea9.jpg  \n",
            "  inflating: Mini Dog Breed Data/yorkshire_terrier/6e36bfaa23ec11fb9088d0cdfaf7f025.jpg  \n",
            "  inflating: Mini Dog Breed Data/yorkshire_terrier/76a366813f6d0182709d8fa154fc24b2.jpg  \n",
            "  inflating: Mini Dog Breed Data/yorkshire_terrier/7814fb216248b93e7dcf9b2acb794294.jpg  \n",
            "  inflating: Mini Dog Breed Data/yorkshire_terrier/78faf3a77c7d8ee488e39a73a6cc1978.jpg  \n",
            "  inflating: Mini Dog Breed Data/yorkshire_terrier/7fd78953120346a62d90e8732adefe72.jpg  \n",
            "  inflating: Mini Dog Breed Data/yorkshire_terrier/8001b079625ce8a590a8dc073869add5.jpg  \n",
            "  inflating: Mini Dog Breed Data/yorkshire_terrier/80b3d6c612875eeb936e3d5784729340.jpg  \n",
            "  inflating: Mini Dog Breed Data/yorkshire_terrier/80d41d9b86778d60e6ae96c1088819f0.jpg  \n",
            "  inflating: Mini Dog Breed Data/yorkshire_terrier/8141b7ef2da931d7441d3c883ce65b57.jpg  \n",
            "  inflating: Mini Dog Breed Data/yorkshire_terrier/82ea6b590bffc55643a267a8f835a984.jpg  \n",
            "  inflating: Mini Dog Breed Data/yorkshire_terrier/875c993f6f71781ae8ba11e686669cee.jpg  \n",
            "  inflating: Mini Dog Breed Data/yorkshire_terrier/8825e9c2f509720b41ec9ae1866ae953.jpg  \n",
            "  inflating: Mini Dog Breed Data/yorkshire_terrier/8ab11c1387ac94ef0d09bf39a96473b9.jpg  \n",
            "  inflating: Mini Dog Breed Data/yorkshire_terrier/8b80780bc559890236d06a312eb7b889.jpg  \n",
            "  inflating: Mini Dog Breed Data/yorkshire_terrier/8d59450a985ebb3790c70d672e616c68.jpg  \n",
            "  inflating: Mini Dog Breed Data/yorkshire_terrier/9215151844a0caedca69036cc1f574fe.jpg  \n",
            "  inflating: Mini Dog Breed Data/yorkshire_terrier/962c60cd9ad2e083547caa891ca0d466.jpg  \n",
            "  inflating: Mini Dog Breed Data/yorkshire_terrier/9afd17ba252823662440863d6c0e6a5c.jpg  \n",
            "  inflating: Mini Dog Breed Data/yorkshire_terrier/9bd01fec0fe84bf86b25219968808abc.jpg  \n",
            "  inflating: Mini Dog Breed Data/yorkshire_terrier/9ddfdc3d8e6fd346ce146cf2aaef7a9c.jpg  \n",
            "  inflating: Mini Dog Breed Data/yorkshire_terrier/9fd140da24aebf0273ba365ef3e28a19.jpg  \n",
            "  inflating: Mini Dog Breed Data/yorkshire_terrier/a02657e33f6b2895506aa317783b9d09.jpg  \n",
            "  inflating: Mini Dog Breed Data/yorkshire_terrier/a19e0dd329d5e18a91a1d82775f00490.jpg  \n",
            "  inflating: Mini Dog Breed Data/yorkshire_terrier/abb9fefaa637485a468bac9d825fd5c3.jpg  \n",
            "  inflating: Mini Dog Breed Data/yorkshire_terrier/b7a84afcc388d91869ec8bf85cf0449e.jpg  \n",
            "  inflating: Mini Dog Breed Data/yorkshire_terrier/b8c56a7e9f658d94c6d07b8496fc6411.jpg  \n",
            "  inflating: Mini Dog Breed Data/yorkshire_terrier/b9b54494a2ed02ea74f0ef26a8cca728.jpg  \n",
            "  inflating: Mini Dog Breed Data/yorkshire_terrier/bbb4831f4cddf33b5ca25152dba1963f.jpg  \n",
            "  inflating: Mini Dog Breed Data/yorkshire_terrier/bd5e32eeb9eaf11979d45530818d2f86.jpg  \n",
            "  inflating: Mini Dog Breed Data/yorkshire_terrier/be9a79b75ab68064bbcecbd4eb4ef959.jpg  \n",
            "  inflating: Mini Dog Breed Data/yorkshire_terrier/bef1e6124f9c413e20e24e40d50276f9.jpg  \n",
            "  inflating: Mini Dog Breed Data/yorkshire_terrier/c2c60183f18666aaa714efeff54a808a.jpg  \n",
            "  inflating: Mini Dog Breed Data/yorkshire_terrier/c4438c44317572f7a432469a63203819.jpg  \n",
            "  inflating: Mini Dog Breed Data/yorkshire_terrier/c86c7ff482a6f2c10b48695b090519e5.jpg  \n",
            "  inflating: Mini Dog Breed Data/yorkshire_terrier/cdc52aa70527d1ce57c1483f6a61c482.jpg  \n",
            "  inflating: Mini Dog Breed Data/yorkshire_terrier/d2358aef08b791249aab787b25c6bee2.jpg  \n",
            "  inflating: Mini Dog Breed Data/yorkshire_terrier/d5c742090f2d1bd616784d96a59bf941.jpg  \n",
            "  inflating: Mini Dog Breed Data/yorkshire_terrier/dabd93944d34d72b6719c3e99ae2694a.jpg  \n",
            "  inflating: Mini Dog Breed Data/yorkshire_terrier/e139e3a836bd9c57af5355847b8eb805.jpg  \n",
            "  inflating: Mini Dog Breed Data/yorkshire_terrier/e2e10aeca2bcd6e9d9d91cd64efc13a8.jpg  \n",
            "  inflating: Mini Dog Breed Data/yorkshire_terrier/e86503273b282ab18bd09c6b6ef63de7.jpg  \n",
            "  inflating: Mini Dog Breed Data/yorkshire_terrier/e8827c1b0698e56e60f735b142d69d18.jpg  \n",
            "  inflating: Mini Dog Breed Data/yorkshire_terrier/f23dffefcd4ae2dee8a5dbf67e41b699.jpg  \n",
            "  inflating: Mini Dog Breed Data/yorkshire_terrier/f28c40401e84e41f5aa4c60fea02a575.jpg  \n",
            "  inflating: Mini Dog Breed Data/yorkshire_terrier/f7627680c56c5d3acc4f7eae93124459.jpg  \n",
            "  inflating: Mini Dog Breed Data/yorkshire_terrier/fb1cdd8ff249b6ee7c2af2e89ff644d4.jpg  \n"
          ]
        }
      ]
    },
    {
      "cell_type": "code",
      "source": [
        "import os\n",
        "\n",
        "dataset_path = 'Mini Dog Breed Data'\n",
        "\n",
        "dataset_files = os.listdir(dataset_path)\n",
        "print(\"Files in the dataset:\", dataset_files)\n"
      ],
      "metadata": {
        "colab": {
          "base_uri": "https://localhost:8080/"
        },
        "id": "XO42JNaokJiI",
        "outputId": "9f4501d1-0c8c-453b-b510-2e23fdec3479"
      },
      "execution_count": null,
      "outputs": [
        {
          "output_type": "stream",
          "name": "stdout",
          "text": [
            "Files in the dataset: ['silky_terrier', 'saint_bernard', 'yorkshire_terrier', 'siberian_husky', 'scottish_deerhound']\n"
          ]
        }
      ]
    },
    {
      "cell_type": "code",
      "source": [
        "import tensorflow as tf\n",
        "from tensorflow import keras\n",
        "from keras.preprocessing import image_dataset_from_directory\n",
        "from keras.applications import VGG16\n",
        "from keras.models import Sequential\n",
        "from keras.layers import GlobalAveragePooling2D, Dense, Dropout\n",
        "import matplotlib.pyplot as plt\n",
        "import numpy as np\n",
        "from sklearn.metrics import confusion_matrix, ConfusionMatrixDisplay\n",
        "\n",
        "dog_breed_data_path = dataset_path\n",
        "\n",
        "train_dataset = image_dataset_from_directory(dog_breed_data_path, image_size=(128, 128), batch_size=32, validation_split=0.2, subset=\"training\", seed=123)\n",
        "val_dataset = image_dataset_from_directory(dog_breed_data_path, image_size=(128, 128), batch_size=32, validation_split=0.2, subset=\"validation\", seed=123)\n",
        "\n",
        "class_names = train_dataset.class_names\n",
        "print(\"\\nClass names:\", class_names)\n",
        "\n",
        "class_counts = [0] * len(class_names)\n",
        "for _, labels in train_dataset.unbatch():\n",
        "    class_counts[int(labels.numpy())] += 1\n",
        "\n",
        "plt.figure(figsize=(10, 6))\n",
        "plt.bar(class_names, class_counts, color='skyblue')\n",
        "plt.xticks(rotation=45)\n",
        "plt.xlabel(\"Dog Breed\")\n",
        "plt.ylabel(\"Number of Images\")\n",
        "plt.title(\"Number of Images per Dog Breed\")\n",
        "plt.tight_layout()\n",
        "plt.show()\n"
      ],
      "metadata": {
        "colab": {
          "base_uri": "https://localhost:8080/",
          "height": 716
        },
        "id": "0I2fZ3CdkseO",
        "outputId": "91adf2fc-4c0d-4240-89dc-df5ebc7b1ea7"
      },
      "execution_count": null,
      "outputs": [
        {
          "output_type": "stream",
          "name": "stdout",
          "text": [
            "Found 477 files belonging to 5 classes.\n",
            "Using 382 files for training.\n",
            "Found 477 files belonging to 5 classes.\n",
            "Using 95 files for validation.\n",
            "\n",
            "Class names: ['saint_bernard', 'scottish_deerhound', 'siberian_husky', 'silky_terrier', 'yorkshire_terrier']\n"
          ]
        },
        {
          "output_type": "display_data",
          "data": {
            "text/plain": [
              "<Figure size 1000x600 with 1 Axes>"
            ],
            "image/png": "[encoded data removed]"
          },
          "metadata": {}
        }
      ]
    },
    {
      "cell_type": "code",
      "source": [
        "normalization_layer = keras.layers.Rescaling(1./255)\n",
        "train_dataset = train_dataset.map(lambda x, y: (normalization_layer(x), y))\n",
        "val_dataset = val_dataset.map(lambda x, y: (normalization_layer(x), y))\n",
        "\n",
        "vgg_base = VGG16(weights='imagenet', include_top=False, input_shape=(128, 128, 3))\n",
        "vgg_base.trainable = False\n",
        "\n",
        "model = Sequential([\n",
        "    vgg_base,\n",
        "    GlobalAveragePooling2D(),\n",
        "    Dense(256, activation='relu'),\n",
        "    Dropout(0.5),\n",
        "    Dense(len(class_names), activation='softmax')\n",
        "])\n",
        "\n",
        "model.compile(optimizer='adam', loss='sparse_categorical_crossentropy', metrics=['accuracy'])\n",
        "model.summary()\n",
        "\n",
        "logs = model.fit(train_dataset, epochs=5, validation_data=val_dataset)\n"
      ],
      "metadata": {
        "colab": {
          "base_uri": "https://localhost:8080/",
          "height": 524
        },
        "id": "fL8LeshckyTr",
        "outputId": "6e58bdb9-7332-4b1a-9e83-f7a6c580e571"
      },
      "execution_count": null,
      "outputs": [
        {
          "output_type": "stream",
          "name": "stdout",
          "text": [
            "Downloading data from https://storage.googleapis.com/tensorflow/keras-applications/vgg16/vgg16_weights_tf_dim_ordering_tf_kernels_notop.h5\n",
            "\u001b[1m58889256/58889256\u001b[0m \u001b[32m━━━━━━━━━━━━━━━━━━━━\u001b[0m\u001b[37m\u001b[0m \u001b[1m0s\u001b[0m 0us/step\n"
          ]
        },
        {
          "output_type": "display_data",
          "data": {
            "text/plain": [
              "\u001b[1mModel: \"sequential\"\u001b[0m\n"
            ],
            "text/html": [
              "<pre style=\"white-space:pre;overflow-x:auto;line-height:normal;font-family:Menlo,'DejaVu Sans Mono',consolas,'Courier New',monospace\"><span style=\"font-weight: bold\">Model: \"sequential\"</span>\n",
              "</pre>\n"
            ]
          },
          "metadata": {}
        },
        {
          "output_type": "display_data",
          "data": {
            "text/plain": [
              "┏━━━━━━━━━━━━━━━━━━━━━━━━━━━━━━━━━┳━━━━━━━━━━━━━━━━━━━━━━━━┳━━━━━━━━━━━━━━━┓\n",
              "┃\u001b[1m \u001b[0m\u001b[1mLayer (type)                   \u001b[0m\u001b[1m \u001b[0m┃\u001b[1m \u001b[0m\u001b[1mOutput Shape          \u001b[0m\u001b[1m \u001b[0m┃\u001b[1m \u001b[0m\u001b[1m      Param #\u001b[0m\u001b[1m \u001b[0m┃\n",
              "┡━━━━━━━━━━━━━━━━━━━━━━━━━━━━━━━━━╇━━━━━━━━━━━━━━━━━━━━━━━━╇━━━━━━━━━━━━━━━┩\n",
              "│ vgg16 (\u001b[38;5;33mFunctional\u001b[0m)              │ (\u001b[38;5;45mNone\u001b[0m, \u001b[38;5;34m4\u001b[0m, \u001b[38;5;34m4\u001b[0m, \u001b[38;5;34m512\u001b[0m)      │    \u001b[38;5;34m14,714,688\u001b[0m │\n",
              "├─────────────────────────────────┼────────────────────────┼───────────────┤\n",
              "│ global_average_pooling2d        │ (\u001b[38;5;45mNone\u001b[0m, \u001b[38;5;34m512\u001b[0m)            │             \u001b[38;5;34m0\u001b[0m │\n",
              "│ (\u001b[38;5;33mGlobalAveragePooling2D\u001b[0m)        │                        │               │\n",
              "├─────────────────────────────────┼────────────────────────┼───────────────┤\n",
              "│ dense (\u001b[38;5;33mDense\u001b[0m)                   │ (\u001b[38;5;45mNone\u001b[0m, \u001b[38;5;34m256\u001b[0m)            │       \u001b[38;5;34m131,328\u001b[0m │\n",
              "├─────────────────────────────────┼────────────────────────┼───────────────┤\n",
              "│ dropout (\u001b[38;5;33mDropout\u001b[0m)               │ (\u001b[38;5;45mNone\u001b[0m, \u001b[38;5;34m256\u001b[0m)            │             \u001b[38;5;34m0\u001b[0m │\n",
              "├─────────────────────────────────┼────────────────────────┼───────────────┤\n",
              "│ dense_1 (\u001b[38;5;33mDense\u001b[0m)                 │ (\u001b[38;5;45mNone\u001b[0m, \u001b[38;5;34m5\u001b[0m)              │         \u001b[38;5;34m1,285\u001b[0m │\n",
              "└─────────────────────────────────┴────────────────────────┴───────────────┘\n"
            ],
            "text/html": [
              "<pre style=\"white-space:pre;overflow-x:auto;line-height:normal;font-family:Menlo,'DejaVu Sans Mono',consolas,'Courier New',monospace\">┏━━━━━━━━━━━━━━━━━━━━━━━━━━━━━━━━━┳━━━━━━━━━━━━━━━━━━━━━━━━┳━━━━━━━━━━━━━━━┓\n",
              "┃<span style=\"font-weight: bold\"> Layer (type)                    </span>┃<span style=\"font-weight: bold\"> Output Shape           </span>┃<span style=\"font-weight: bold\">       Param # </span>┃\n",
              "┡━━━━━━━━━━━━━━━━━━━━━━━━━━━━━━━━━╇━━━━━━━━━━━━━━━━━━━━━━━━╇━━━━━━━━━━━━━━━┩\n",
              "│ vgg16 (<span style=\"color: #0087ff; text-decoration-color: #0087ff\">Functional</span>)              │ (<span style=\"color: #00d7ff; text-decoration-color: #00d7ff\">None</span>, <span style=\"color: #00af00; text-decoration-color: #00af00\">4</span>, <span style=\"color: #00af00; text-decoration-color: #00af00\">4</span>, <span style=\"color: #00af00; text-decoration-color: #00af00\">512</span>)      │    <span style=\"color: #00af00; text-decoration-color: #00af00\">14,714,688</span> │\n",
              "├─────────────────────────────────┼────────────────────────┼───────────────┤\n",
              "│ global_average_pooling2d        │ (<span style=\"color: #00d7ff; text-decoration-color: #00d7ff\">None</span>, <span style=\"color: #00af00; text-decoration-color: #00af00\">512</span>)            │             <span style=\"color: #00af00; text-decoration-color: #00af00\">0</span> │\n",
              "│ (<span style=\"color: #0087ff; text-decoration-color: #0087ff\">GlobalAveragePooling2D</span>)        │                        │               │\n",
              "├─────────────────────────────────┼────────────────────────┼───────────────┤\n",
              "│ dense (<span style=\"color: #0087ff; text-decoration-color: #0087ff\">Dense</span>)                   │ (<span style=\"color: #00d7ff; text-decoration-color: #00d7ff\">None</span>, <span style=\"color: #00af00; text-decoration-color: #00af00\">256</span>)            │       <span style=\"color: #00af00; text-decoration-color: #00af00\">131,328</span> │\n",
              "├─────────────────────────────────┼────────────────────────┼───────────────┤\n",
              "│ dropout (<span style=\"color: #0087ff; text-decoration-color: #0087ff\">Dropout</span>)               │ (<span style=\"color: #00d7ff; text-decoration-color: #00d7ff\">None</span>, <span style=\"color: #00af00; text-decoration-color: #00af00\">256</span>)            │             <span style=\"color: #00af00; text-decoration-color: #00af00\">0</span> │\n",
              "├─────────────────────────────────┼────────────────────────┼───────────────┤\n",
              "│ dense_1 (<span style=\"color: #0087ff; text-decoration-color: #0087ff\">Dense</span>)                 │ (<span style=\"color: #00d7ff; text-decoration-color: #00d7ff\">None</span>, <span style=\"color: #00af00; text-decoration-color: #00af00\">5</span>)              │         <span style=\"color: #00af00; text-decoration-color: #00af00\">1,285</span> │\n",
              "└─────────────────────────────────┴────────────────────────┴───────────────┘\n",
              "</pre>\n"
            ]
          },
          "metadata": {}
        },
        {
          "output_type": "display_data",
          "data": {
            "text/plain": [
              "\u001b[1m Total params: \u001b[0m\u001b[38;5;34m14,847,301\u001b[0m (56.64 MB)\n"
            ],
            "text/html": [
              "<pre style=\"white-space:pre;overflow-x:auto;line-height:normal;font-family:Menlo,'DejaVu Sans Mono',consolas,'Courier New',monospace\"><span style=\"font-weight: bold\"> Total params: </span><span style=\"color: #00af00; text-decoration-color: #00af00\">14,847,301</span> (56.64 MB)\n",
              "</pre>\n"
            ]
          },
          "metadata": {}
        },
        {
          "output_type": "display_data",
          "data": {
            "text/plain": [
              "\u001b[1m Trainable params: \u001b[0m\u001b[38;5;34m132,613\u001b[0m (518.02 KB)\n"
            ],
            "text/html": [
              "<pre style=\"white-space:pre;overflow-x:auto;line-height:normal;font-family:Menlo,'DejaVu Sans Mono',consolas,'Courier New',monospace\"><span style=\"font-weight: bold\"> Trainable params: </span><span style=\"color: #00af00; text-decoration-color: #00af00\">132,613</span> (518.02 KB)\n",
              "</pre>\n"
            ]
          },
          "metadata": {}
        },
        {
          "output_type": "display_data",
          "data": {
            "text/plain": [
              "\u001b[1m Non-trainable params: \u001b[0m\u001b[38;5;34m14,714,688\u001b[0m (56.13 MB)\n"
            ],
            "text/html": [
              "<pre style=\"white-space:pre;overflow-x:auto;line-height:normal;font-family:Menlo,'DejaVu Sans Mono',consolas,'Courier New',monospace\"><span style=\"font-weight: bold\"> Non-trainable params: </span><span style=\"color: #00af00; text-decoration-color: #00af00\">14,714,688</span> (56.13 MB)\n",
              "</pre>\n"
            ]
          },
          "metadata": {}
        },
        {
          "output_type": "stream",
          "name": "stdout",
          "text": [
            "Epoch 1/5\n",
            "\u001b[1m12/12\u001b[0m \u001b[32m━━━━━━━━━━━━━━━━━━━━\u001b[0m\u001b[37m\u001b[0m \u001b[1m94s\u001b[0m 8s/step - accuracy: 0.2312 - loss: 1.7716 - val_accuracy: 0.3158 - val_loss: 1.5764\n",
            "Epoch 2/5\n",
            "\u001b[1m12/12\u001b[0m \u001b[32m━━━━━━━━━━━━━━━━━━━━\u001b[0m\u001b[37m\u001b[0m \u001b[1m148s\u001b[0m 8s/step - accuracy: 0.3637 - loss: 1.4823 - val_accuracy: 0.4842 - val_loss: 1.4312\n",
            "Epoch 3/5\n",
            "\u001b[1m12/12\u001b[0m \u001b[32m━━━━━━━━━━━━━━━━━━━━\u001b[0m\u001b[37m\u001b[0m \u001b[1m140s\u001b[0m 8s/step - accuracy: 0.3970 - loss: 1.4112 - val_accuracy: 0.4421 - val_loss: 1.3822\n",
            "Epoch 4/5\n",
            "\u001b[1m12/12\u001b[0m \u001b[32m━━━━━━━━━━━━━━━━━━━━\u001b[0m\u001b[37m\u001b[0m \u001b[1m142s\u001b[0m 8s/step - accuracy: 0.5123 - loss: 1.2645 - val_accuracy: 0.5684 - val_loss: 1.2873\n",
            "Epoch 5/5\n",
            "\u001b[1m12/12\u001b[0m \u001b[32m━━━━━━━━━━━━━━━━━━━━\u001b[0m\u001b[37m\u001b[0m \u001b[1m92s\u001b[0m 8s/step - accuracy: 0.5699 - loss: 1.1552 - val_accuracy: 0.6000 - val_loss: 1.2465\n"
          ]
        }
      ]
    },
    {
      "cell_type": "code",
      "source": [
        "plt.figure(figsize=(8, 4))\n",
        "plt.subplot(1, 2, 1)\n",
        "plt.plot(logs.history['accuracy'], label='Train Acc')\n",
        "plt.plot(logs.history['val_accuracy'], label='Val Acc')\n",
        "plt.title('Accuracy')\n",
        "plt.legend()\n",
        "\n",
        "plt.subplot(1, 2, 2)\n",
        "plt.plot(logs.history['loss'], label='Train Loss')\n",
        "plt.plot(logs.history['val_loss'], label='Val Loss')\n",
        "plt.title('Loss')\n",
        "plt.legend()\n",
        "plt.tight_layout()\n",
        "plt.show()"
      ],
      "metadata": {
        "colab": {
          "base_uri": "https://localhost:8080/",
          "height": 407
        },
        "id": "_eYHOiqDk__5",
        "outputId": "69f64fd2-240a-44f6-d60f-a50f87b70b87"
      },
      "execution_count": null,
      "outputs": [
        {
          "output_type": "display_data",
          "data": {
            "text/plain": [
              "<Figure size 800x400 with 2 Axes>"
            ],
            "image/png": "[encoded data removed]"
          },
          "metadata": {}
        }
      ]
    },
    {
      "cell_type": "code",
      "source": [
        "res = model.evaluate(val_dataset)\n",
        "print(f\"\\nTest Accuracy: {res[1]:.4f}\")\n"
      ],
      "metadata": {
        "colab": {
          "base_uri": "https://localhost:8080/"
        },
        "id": "kfCWH6eUnjz3",
        "outputId": "95fdb77b-b0e0-41cd-c60a-8ad7ddda2ea5"
      },
      "execution_count": null,
      "outputs": [
        {
          "output_type": "stream",
          "name": "stdout",
          "text": [
            "\u001b[1m3/3\u001b[0m \u001b[32m━━━━━━━━━━━━━━━━━━━━\u001b[0m\u001b[37m\u001b[0m \u001b[1m21s\u001b[0m 7s/step - accuracy: 0.6008 - loss: 1.2830\n",
            "\n",
            "Test Accuracy: 0.6000\n"
          ]
        }
      ]
    },
    {
      "cell_type": "code",
      "source": [
        "y_true = []\n",
        "y_pred = []\n",
        "for images, labels in val_dataset:\n",
        "    preds = model.predict(images)\n",
        "    y_pred.extend(np.argmax(preds, axis=1))\n",
        "    y_true.extend(labels.numpy())\n",
        "\n",
        "cm = confusion_matrix(y_true, y_pred)\n",
        "disp = ConfusionMatrixDisplay(confusion_matrix=cm, display_labels=class_names)\n",
        "disp.plot(cmap=plt.cm.Blues)\n",
        "plt.title(\"Confusion Matrix for Dog Breed Classification\")\n",
        "plt.show()\n",
        "plt.tight_layout()"
      ],
      "metadata": {
        "colab": {
          "base_uri": "https://localhost:8080/",
          "height": 545
        },
        "id": "fsy3_LwPnoPf",
        "outputId": "a9be682f-5040-429c-fc14-e1369b26074c"
      },
      "execution_count": null,
      "outputs": [
        {
          "output_type": "stream",
          "name": "stdout",
          "text": [
            "\u001b[1m1/1\u001b[0m \u001b[32m━━━━━━━━━━━━━━━━━━━━\u001b[0m\u001b[37m\u001b[0m \u001b[1m6s\u001b[0m 6s/step\n",
            "\u001b[1m1/1\u001b[0m \u001b[32m━━━━━━━━━━━━━━━━━━━━\u001b[0m\u001b[37m\u001b[0m \u001b[1m6s\u001b[0m 6s/step\n",
            "\u001b[1m1/1\u001b[0m \u001b[32m━━━━━━━━━━━━━━━━━━━━\u001b[0m\u001b[37m\u001b[0m \u001b[1m7s\u001b[0m 7s/step\n"
          ]
        },
        {
          "output_type": "display_data",
          "data": {
            "text/plain": [
              "<Figure size 640x480 with 2 Axes>"
            ],
            "image/png": "[encoded data removed]"
          },
          "metadata": {}
        },
        {
          "output_type": "display_data",
          "data": {
            "text/plain": [
              "<Figure size 640x480 with 0 Axes>"
            ]
          },
          "metadata": {}
        }
      ]
    },
    {
      "cell_type": "code",
      "source": [
        "model.save(\"dog_breed_classifier.h5\")\n",
        "print(\"Model saved as dog_breed_classifier.h5\")\n"
      ],
      "metadata": {
        "colab": {
          "base_uri": "https://localhost:8080/"
        },
        "id": "whwKCjhXnuCe",
        "outputId": "404770f3-444f-4801-fa30-629326ef9017"
      },
      "execution_count": null,
      "outputs": [
        {
          "output_type": "stream",
          "name": "stderr",
          "text": [
            "WARNING:absl:You are saving your model as an HDF5 file via `model.save()` or `keras.saving.save_model(model)`. This file format is considered legacy. We recommend using instead the native Keras format, e.g. `model.save('my_model.keras')` or `keras.saving.save_model(model, 'my_model.keras')`. \n"
          ]
        },
        {
          "output_type": "stream",
          "name": "stdout",
          "text": [
            "Model saved as dog_breed_classifier.h5\n"
          ]
        }
      ]
    },
    {
      "cell_type": "code",
      "source": [
        "from tensorflow.keras.models import load_model\n",
        "\n",
        "loaded_model = load_model(\"dog_breed_classifier.h5\")\n",
        "print(\"Model loaded successfully\")\n"
      ],
      "metadata": {
        "colab": {
          "base_uri": "https://localhost:8080/"
        },
        "id": "s8GGqhHkoWDl",
        "outputId": "27df8361-e7ae-4930-f1dc-9565ae386b07"
      },
      "execution_count": null,
      "outputs": [
        {
          "output_type": "stream",
          "name": "stderr",
          "text": [
            "WARNING:absl:Compiled the loaded model, but the compiled metrics have yet to be built. `model.compile_metrics` will be empty until you train or evaluate the model.\n"
          ]
        },
        {
          "output_type": "stream",
          "name": "stdout",
          "text": [
            "Model loaded successfully\n"
          ]
        }
      ]
    },
    {
      "cell_type": "code",
      "source": [
        "res_loaded = loaded_model.evaluate(val_dataset)\n",
        "print(f\"\\nLoaded Model Accuracy: {res_loaded[1]:.4f}\")\n"
      ],
      "metadata": {
        "colab": {
          "base_uri": "https://localhost:8080/"
        },
        "id": "yHyNPP4XobNk",
        "outputId": "8eec9d91-7069-4d16-804f-f317c9059186"
      },
      "execution_count": null,
      "outputs": [
        {
          "output_type": "stream",
          "name": "stdout",
          "text": [
            "\u001b[1m3/3\u001b[0m \u001b[32m━━━━━━━━━━━━━━━━━━━━\u001b[0m\u001b[37m\u001b[0m \u001b[1m27s\u001b[0m 9s/step - accuracy: 0.6359 - loss: 1.2101\n",
            "\n",
            "Loaded Model Accuracy: 0.6000\n"
          ]
        }
      ]
    },
    {
      "cell_type": "code",
      "source": [
        "from tensorflow.keras.preprocessing import image\n",
        "import numpy as np\n",
        "\n",
        "img_path = os.path.join(dog_breed_data_path, class_names[0], os.listdir(os.path.join(dog_breed_data_path, class_names[0]))[0])\n",
        "\n",
        "img = image.load_img(img_path, target_size=(128, 128))\n",
        "img_array = image.img_to_array(img)\n",
        "img_array = np.expand_dims(img_array, axis=0)  # Add batch dimension\n",
        "img_array = img_array / 255.0  # Normalize\n",
        "\n",
        "pred = loaded_model.predict(img_array)\n",
        "predicted_class = class_names[np.argmax(pred)]\n",
        "\n",
        "print(f\"Predicted Class: {predicted_class}\")\n"
      ],
      "metadata": {
        "colab": {
          "base_uri": "https://localhost:8080/"
        },
        "id": "3Y96KXnwofYI",
        "outputId": "e53f52f1-a713-4e2a-fae6-feca87505d07"
      },
      "execution_count": null,
      "outputs": [
        {
          "output_type": "stream",
          "name": "stdout",
          "text": [
            "\u001b[1m1/1\u001b[0m \u001b[32m━━━━━━━━━━━━━━━━━━━━\u001b[0m\u001b[37m\u001b[0m \u001b[1m1s\u001b[0m 696ms/step\n",
            "Predicted Class: saint_bernard\n"
          ]
        }
      ]
    },
    {
      "cell_type": "code",
      "source": [],
      "metadata": {
        "id": "HRl7TC-Qom8N"
      },
      "execution_count": null,
      "outputs": []
    }
  ]
}